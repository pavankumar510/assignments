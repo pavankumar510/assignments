{
 "cells": [
  {
   "cell_type": "code",
   "execution_count": 121,
   "id": "b83b4e38",
   "metadata": {},
   "outputs": [
    {
     "data": {
      "text/html": [
       "<div>\n",
       "<style scoped>\n",
       "    .dataframe tbody tr th:only-of-type {\n",
       "        vertical-align: middle;\n",
       "    }\n",
       "\n",
       "    .dataframe tbody tr th {\n",
       "        vertical-align: top;\n",
       "    }\n",
       "\n",
       "    .dataframe thead th {\n",
       "        text-align: right;\n",
       "    }\n",
       "</style>\n",
       "<table border=\"1\" class=\"dataframe\">\n",
       "  <thead>\n",
       "    <tr style=\"text-align: right;\">\n",
       "      <th></th>\n",
       "      <th>R&amp;D Spend</th>\n",
       "      <th>Administration</th>\n",
       "      <th>Marketing Spend</th>\n",
       "      <th>State</th>\n",
       "    </tr>\n",
       "  </thead>\n",
       "  <tbody>\n",
       "    <tr>\n",
       "      <th>0</th>\n",
       "      <td>165349.20</td>\n",
       "      <td>136897.80</td>\n",
       "      <td>471784.10</td>\n",
       "      <td>New York</td>\n",
       "    </tr>\n",
       "    <tr>\n",
       "      <th>1</th>\n",
       "      <td>162597.70</td>\n",
       "      <td>151377.59</td>\n",
       "      <td>443898.53</td>\n",
       "      <td>California</td>\n",
       "    </tr>\n",
       "    <tr>\n",
       "      <th>2</th>\n",
       "      <td>153441.51</td>\n",
       "      <td>101145.55</td>\n",
       "      <td>407934.54</td>\n",
       "      <td>Florida</td>\n",
       "    </tr>\n",
       "    <tr>\n",
       "      <th>3</th>\n",
       "      <td>144372.41</td>\n",
       "      <td>118671.85</td>\n",
       "      <td>383199.62</td>\n",
       "      <td>New York</td>\n",
       "    </tr>\n",
       "    <tr>\n",
       "      <th>4</th>\n",
       "      <td>142107.34</td>\n",
       "      <td>91391.77</td>\n",
       "      <td>366168.42</td>\n",
       "      <td>Florida</td>\n",
       "    </tr>\n",
       "    <tr>\n",
       "      <th>5</th>\n",
       "      <td>131876.90</td>\n",
       "      <td>99814.71</td>\n",
       "      <td>362861.36</td>\n",
       "      <td>New York</td>\n",
       "    </tr>\n",
       "    <tr>\n",
       "      <th>6</th>\n",
       "      <td>134615.46</td>\n",
       "      <td>147198.87</td>\n",
       "      <td>127716.82</td>\n",
       "      <td>California</td>\n",
       "    </tr>\n",
       "    <tr>\n",
       "      <th>7</th>\n",
       "      <td>130298.13</td>\n",
       "      <td>145530.06</td>\n",
       "      <td>323876.68</td>\n",
       "      <td>Florida</td>\n",
       "    </tr>\n",
       "    <tr>\n",
       "      <th>8</th>\n",
       "      <td>120542.52</td>\n",
       "      <td>148718.95</td>\n",
       "      <td>311613.29</td>\n",
       "      <td>New York</td>\n",
       "    </tr>\n",
       "    <tr>\n",
       "      <th>9</th>\n",
       "      <td>123334.88</td>\n",
       "      <td>108679.17</td>\n",
       "      <td>304981.62</td>\n",
       "      <td>California</td>\n",
       "    </tr>\n",
       "    <tr>\n",
       "      <th>10</th>\n",
       "      <td>101913.08</td>\n",
       "      <td>110594.11</td>\n",
       "      <td>229160.95</td>\n",
       "      <td>Florida</td>\n",
       "    </tr>\n",
       "    <tr>\n",
       "      <th>11</th>\n",
       "      <td>100671.96</td>\n",
       "      <td>91790.61</td>\n",
       "      <td>249744.55</td>\n",
       "      <td>California</td>\n",
       "    </tr>\n",
       "    <tr>\n",
       "      <th>12</th>\n",
       "      <td>93863.75</td>\n",
       "      <td>127320.38</td>\n",
       "      <td>249839.44</td>\n",
       "      <td>Florida</td>\n",
       "    </tr>\n",
       "    <tr>\n",
       "      <th>13</th>\n",
       "      <td>91992.39</td>\n",
       "      <td>135495.07</td>\n",
       "      <td>252664.93</td>\n",
       "      <td>California</td>\n",
       "    </tr>\n",
       "    <tr>\n",
       "      <th>14</th>\n",
       "      <td>119943.24</td>\n",
       "      <td>156547.42</td>\n",
       "      <td>256512.92</td>\n",
       "      <td>Florida</td>\n",
       "    </tr>\n",
       "    <tr>\n",
       "      <th>15</th>\n",
       "      <td>114523.61</td>\n",
       "      <td>122616.84</td>\n",
       "      <td>261776.23</td>\n",
       "      <td>New York</td>\n",
       "    </tr>\n",
       "    <tr>\n",
       "      <th>16</th>\n",
       "      <td>78013.11</td>\n",
       "      <td>121597.55</td>\n",
       "      <td>264346.06</td>\n",
       "      <td>California</td>\n",
       "    </tr>\n",
       "    <tr>\n",
       "      <th>17</th>\n",
       "      <td>94657.16</td>\n",
       "      <td>145077.58</td>\n",
       "      <td>282574.31</td>\n",
       "      <td>New York</td>\n",
       "    </tr>\n",
       "    <tr>\n",
       "      <th>18</th>\n",
       "      <td>91749.16</td>\n",
       "      <td>114175.79</td>\n",
       "      <td>294919.57</td>\n",
       "      <td>Florida</td>\n",
       "    </tr>\n",
       "    <tr>\n",
       "      <th>19</th>\n",
       "      <td>86419.70</td>\n",
       "      <td>153514.11</td>\n",
       "      <td>0.00</td>\n",
       "      <td>New York</td>\n",
       "    </tr>\n",
       "    <tr>\n",
       "      <th>20</th>\n",
       "      <td>76253.86</td>\n",
       "      <td>113867.30</td>\n",
       "      <td>298664.47</td>\n",
       "      <td>California</td>\n",
       "    </tr>\n",
       "    <tr>\n",
       "      <th>21</th>\n",
       "      <td>78389.47</td>\n",
       "      <td>153773.43</td>\n",
       "      <td>299737.29</td>\n",
       "      <td>New York</td>\n",
       "    </tr>\n",
       "    <tr>\n",
       "      <th>22</th>\n",
       "      <td>73994.56</td>\n",
       "      <td>122782.75</td>\n",
       "      <td>303319.26</td>\n",
       "      <td>Florida</td>\n",
       "    </tr>\n",
       "    <tr>\n",
       "      <th>23</th>\n",
       "      <td>67532.53</td>\n",
       "      <td>105751.03</td>\n",
       "      <td>304768.73</td>\n",
       "      <td>Florida</td>\n",
       "    </tr>\n",
       "    <tr>\n",
       "      <th>24</th>\n",
       "      <td>77044.01</td>\n",
       "      <td>99281.34</td>\n",
       "      <td>140574.81</td>\n",
       "      <td>New York</td>\n",
       "    </tr>\n",
       "    <tr>\n",
       "      <th>25</th>\n",
       "      <td>64664.71</td>\n",
       "      <td>139553.16</td>\n",
       "      <td>137962.62</td>\n",
       "      <td>California</td>\n",
       "    </tr>\n",
       "    <tr>\n",
       "      <th>26</th>\n",
       "      <td>75328.87</td>\n",
       "      <td>144135.98</td>\n",
       "      <td>134050.07</td>\n",
       "      <td>Florida</td>\n",
       "    </tr>\n",
       "    <tr>\n",
       "      <th>27</th>\n",
       "      <td>72107.60</td>\n",
       "      <td>127864.55</td>\n",
       "      <td>353183.81</td>\n",
       "      <td>New York</td>\n",
       "    </tr>\n",
       "    <tr>\n",
       "      <th>28</th>\n",
       "      <td>66051.52</td>\n",
       "      <td>182645.56</td>\n",
       "      <td>118148.20</td>\n",
       "      <td>Florida</td>\n",
       "    </tr>\n",
       "    <tr>\n",
       "      <th>29</th>\n",
       "      <td>65605.48</td>\n",
       "      <td>153032.06</td>\n",
       "      <td>107138.38</td>\n",
       "      <td>New York</td>\n",
       "    </tr>\n",
       "    <tr>\n",
       "      <th>30</th>\n",
       "      <td>61994.48</td>\n",
       "      <td>115641.28</td>\n",
       "      <td>91131.24</td>\n",
       "      <td>Florida</td>\n",
       "    </tr>\n",
       "    <tr>\n",
       "      <th>31</th>\n",
       "      <td>61136.38</td>\n",
       "      <td>152701.92</td>\n",
       "      <td>88218.23</td>\n",
       "      <td>New York</td>\n",
       "    </tr>\n",
       "    <tr>\n",
       "      <th>32</th>\n",
       "      <td>63408.86</td>\n",
       "      <td>129219.61</td>\n",
       "      <td>46085.25</td>\n",
       "      <td>California</td>\n",
       "    </tr>\n",
       "    <tr>\n",
       "      <th>33</th>\n",
       "      <td>55493.95</td>\n",
       "      <td>103057.49</td>\n",
       "      <td>214634.81</td>\n",
       "      <td>Florida</td>\n",
       "    </tr>\n",
       "    <tr>\n",
       "      <th>34</th>\n",
       "      <td>46426.07</td>\n",
       "      <td>157693.92</td>\n",
       "      <td>210797.67</td>\n",
       "      <td>California</td>\n",
       "    </tr>\n",
       "    <tr>\n",
       "      <th>35</th>\n",
       "      <td>46014.02</td>\n",
       "      <td>85047.44</td>\n",
       "      <td>205517.64</td>\n",
       "      <td>New York</td>\n",
       "    </tr>\n",
       "    <tr>\n",
       "      <th>36</th>\n",
       "      <td>28663.76</td>\n",
       "      <td>127056.21</td>\n",
       "      <td>201126.82</td>\n",
       "      <td>Florida</td>\n",
       "    </tr>\n",
       "    <tr>\n",
       "      <th>37</th>\n",
       "      <td>44069.95</td>\n",
       "      <td>51283.14</td>\n",
       "      <td>197029.42</td>\n",
       "      <td>California</td>\n",
       "    </tr>\n",
       "    <tr>\n",
       "      <th>38</th>\n",
       "      <td>20229.59</td>\n",
       "      <td>65947.93</td>\n",
       "      <td>185265.10</td>\n",
       "      <td>New York</td>\n",
       "    </tr>\n",
       "    <tr>\n",
       "      <th>39</th>\n",
       "      <td>38558.51</td>\n",
       "      <td>82982.09</td>\n",
       "      <td>174999.30</td>\n",
       "      <td>California</td>\n",
       "    </tr>\n",
       "    <tr>\n",
       "      <th>40</th>\n",
       "      <td>28754.33</td>\n",
       "      <td>118546.05</td>\n",
       "      <td>172795.67</td>\n",
       "      <td>California</td>\n",
       "    </tr>\n",
       "    <tr>\n",
       "      <th>41</th>\n",
       "      <td>27892.92</td>\n",
       "      <td>84710.77</td>\n",
       "      <td>164470.71</td>\n",
       "      <td>Florida</td>\n",
       "    </tr>\n",
       "    <tr>\n",
       "      <th>42</th>\n",
       "      <td>23640.93</td>\n",
       "      <td>96189.63</td>\n",
       "      <td>148001.11</td>\n",
       "      <td>California</td>\n",
       "    </tr>\n",
       "    <tr>\n",
       "      <th>43</th>\n",
       "      <td>15505.73</td>\n",
       "      <td>127382.30</td>\n",
       "      <td>35534.17</td>\n",
       "      <td>New York</td>\n",
       "    </tr>\n",
       "    <tr>\n",
       "      <th>44</th>\n",
       "      <td>22177.74</td>\n",
       "      <td>154806.14</td>\n",
       "      <td>28334.72</td>\n",
       "      <td>California</td>\n",
       "    </tr>\n",
       "    <tr>\n",
       "      <th>45</th>\n",
       "      <td>1000.23</td>\n",
       "      <td>124153.04</td>\n",
       "      <td>1903.93</td>\n",
       "      <td>New York</td>\n",
       "    </tr>\n",
       "    <tr>\n",
       "      <th>46</th>\n",
       "      <td>1315.46</td>\n",
       "      <td>115816.21</td>\n",
       "      <td>297114.46</td>\n",
       "      <td>Florida</td>\n",
       "    </tr>\n",
       "    <tr>\n",
       "      <th>47</th>\n",
       "      <td>0.00</td>\n",
       "      <td>135426.92</td>\n",
       "      <td>0.00</td>\n",
       "      <td>California</td>\n",
       "    </tr>\n",
       "    <tr>\n",
       "      <th>48</th>\n",
       "      <td>542.05</td>\n",
       "      <td>51743.15</td>\n",
       "      <td>0.00</td>\n",
       "      <td>New York</td>\n",
       "    </tr>\n",
       "    <tr>\n",
       "      <th>49</th>\n",
       "      <td>0.00</td>\n",
       "      <td>116983.80</td>\n",
       "      <td>45173.06</td>\n",
       "      <td>California</td>\n",
       "    </tr>\n",
       "  </tbody>\n",
       "</table>\n",
       "</div>"
      ],
      "text/plain": [
       "    R&D Spend  Administration  Marketing Spend       State\n",
       "0   165349.20       136897.80        471784.10    New York\n",
       "1   162597.70       151377.59        443898.53  California\n",
       "2   153441.51       101145.55        407934.54     Florida\n",
       "3   144372.41       118671.85        383199.62    New York\n",
       "4   142107.34        91391.77        366168.42     Florida\n",
       "5   131876.90        99814.71        362861.36    New York\n",
       "6   134615.46       147198.87        127716.82  California\n",
       "7   130298.13       145530.06        323876.68     Florida\n",
       "8   120542.52       148718.95        311613.29    New York\n",
       "9   123334.88       108679.17        304981.62  California\n",
       "10  101913.08       110594.11        229160.95     Florida\n",
       "11  100671.96        91790.61        249744.55  California\n",
       "12   93863.75       127320.38        249839.44     Florida\n",
       "13   91992.39       135495.07        252664.93  California\n",
       "14  119943.24       156547.42        256512.92     Florida\n",
       "15  114523.61       122616.84        261776.23    New York\n",
       "16   78013.11       121597.55        264346.06  California\n",
       "17   94657.16       145077.58        282574.31    New York\n",
       "18   91749.16       114175.79        294919.57     Florida\n",
       "19   86419.70       153514.11             0.00    New York\n",
       "20   76253.86       113867.30        298664.47  California\n",
       "21   78389.47       153773.43        299737.29    New York\n",
       "22   73994.56       122782.75        303319.26     Florida\n",
       "23   67532.53       105751.03        304768.73     Florida\n",
       "24   77044.01        99281.34        140574.81    New York\n",
       "25   64664.71       139553.16        137962.62  California\n",
       "26   75328.87       144135.98        134050.07     Florida\n",
       "27   72107.60       127864.55        353183.81    New York\n",
       "28   66051.52       182645.56        118148.20     Florida\n",
       "29   65605.48       153032.06        107138.38    New York\n",
       "30   61994.48       115641.28         91131.24     Florida\n",
       "31   61136.38       152701.92         88218.23    New York\n",
       "32   63408.86       129219.61         46085.25  California\n",
       "33   55493.95       103057.49        214634.81     Florida\n",
       "34   46426.07       157693.92        210797.67  California\n",
       "35   46014.02        85047.44        205517.64    New York\n",
       "36   28663.76       127056.21        201126.82     Florida\n",
       "37   44069.95        51283.14        197029.42  California\n",
       "38   20229.59        65947.93        185265.10    New York\n",
       "39   38558.51        82982.09        174999.30  California\n",
       "40   28754.33       118546.05        172795.67  California\n",
       "41   27892.92        84710.77        164470.71     Florida\n",
       "42   23640.93        96189.63        148001.11  California\n",
       "43   15505.73       127382.30         35534.17    New York\n",
       "44   22177.74       154806.14         28334.72  California\n",
       "45    1000.23       124153.04          1903.93    New York\n",
       "46    1315.46       115816.21        297114.46     Florida\n",
       "47       0.00       135426.92             0.00  California\n",
       "48     542.05        51743.15             0.00    New York\n",
       "49       0.00       116983.80         45173.06  California"
      ]
     },
     "execution_count": 121,
     "metadata": {},
     "output_type": "execute_result"
    }
   ],
   "source": [
    "import pandas as pd\n",
    "import numpy as np\n",
    "df= pd.read_csv(\"D:/Ds Csv files Assignment/Multiple LR/50_Startups.csv\")\n",
    "df.iloc[:,0:4]"
   ]
  },
  {
   "cell_type": "code",
   "execution_count": 122,
   "id": "3853c2c3",
   "metadata": {},
   "outputs": [
    {
     "data": {
      "text/html": [
       "<div>\n",
       "<style scoped>\n",
       "    .dataframe tbody tr th:only-of-type {\n",
       "        vertical-align: middle;\n",
       "    }\n",
       "\n",
       "    .dataframe tbody tr th {\n",
       "        vertical-align: top;\n",
       "    }\n",
       "\n",
       "    .dataframe thead th {\n",
       "        text-align: right;\n",
       "    }\n",
       "</style>\n",
       "<table border=\"1\" class=\"dataframe\">\n",
       "  <thead>\n",
       "    <tr style=\"text-align: right;\">\n",
       "      <th></th>\n",
       "      <th>R&amp;D Spend</th>\n",
       "      <th>Administration</th>\n",
       "      <th>Marketing Spend</th>\n",
       "      <th>State</th>\n",
       "      <th>Profit</th>\n",
       "    </tr>\n",
       "  </thead>\n",
       "  <tbody>\n",
       "    <tr>\n",
       "      <th>0</th>\n",
       "      <td>165349.20</td>\n",
       "      <td>136897.80</td>\n",
       "      <td>471784.10</td>\n",
       "      <td>New York</td>\n",
       "      <td>192261.83</td>\n",
       "    </tr>\n",
       "    <tr>\n",
       "      <th>1</th>\n",
       "      <td>162597.70</td>\n",
       "      <td>151377.59</td>\n",
       "      <td>443898.53</td>\n",
       "      <td>California</td>\n",
       "      <td>191792.06</td>\n",
       "    </tr>\n",
       "    <tr>\n",
       "      <th>2</th>\n",
       "      <td>153441.51</td>\n",
       "      <td>101145.55</td>\n",
       "      <td>407934.54</td>\n",
       "      <td>Florida</td>\n",
       "      <td>191050.39</td>\n",
       "    </tr>\n",
       "    <tr>\n",
       "      <th>3</th>\n",
       "      <td>144372.41</td>\n",
       "      <td>118671.85</td>\n",
       "      <td>383199.62</td>\n",
       "      <td>New York</td>\n",
       "      <td>182901.99</td>\n",
       "    </tr>\n",
       "    <tr>\n",
       "      <th>4</th>\n",
       "      <td>142107.34</td>\n",
       "      <td>91391.77</td>\n",
       "      <td>366168.42</td>\n",
       "      <td>Florida</td>\n",
       "      <td>166187.94</td>\n",
       "    </tr>\n",
       "  </tbody>\n",
       "</table>\n",
       "</div>"
      ],
      "text/plain": [
       "   R&D Spend  Administration  Marketing Spend       State     Profit\n",
       "0  165349.20       136897.80        471784.10    New York  192261.83\n",
       "1  162597.70       151377.59        443898.53  California  191792.06\n",
       "2  153441.51       101145.55        407934.54     Florida  191050.39\n",
       "3  144372.41       118671.85        383199.62    New York  182901.99\n",
       "4  142107.34        91391.77        366168.42     Florida  166187.94"
      ]
     },
     "execution_count": 122,
     "metadata": {},
     "output_type": "execute_result"
    }
   ],
   "source": [
    "df.head()"
   ]
  },
  {
   "cell_type": "code",
   "execution_count": 123,
   "id": "4bd889b8",
   "metadata": {},
   "outputs": [
    {
     "data": {
      "text/html": [
       "<div>\n",
       "<style scoped>\n",
       "    .dataframe tbody tr th:only-of-type {\n",
       "        vertical-align: middle;\n",
       "    }\n",
       "\n",
       "    .dataframe tbody tr th {\n",
       "        vertical-align: top;\n",
       "    }\n",
       "\n",
       "    .dataframe thead th {\n",
       "        text-align: right;\n",
       "    }\n",
       "</style>\n",
       "<table border=\"1\" class=\"dataframe\">\n",
       "  <thead>\n",
       "    <tr style=\"text-align: right;\">\n",
       "      <th></th>\n",
       "      <th>R&amp;D Spend</th>\n",
       "      <th>Administration</th>\n",
       "      <th>Marketing Spend</th>\n",
       "      <th>State</th>\n",
       "      <th>Profit</th>\n",
       "    </tr>\n",
       "  </thead>\n",
       "  <tbody>\n",
       "    <tr>\n",
       "      <th>45</th>\n",
       "      <td>1000.23</td>\n",
       "      <td>124153.04</td>\n",
       "      <td>1903.93</td>\n",
       "      <td>New York</td>\n",
       "      <td>64926.08</td>\n",
       "    </tr>\n",
       "    <tr>\n",
       "      <th>46</th>\n",
       "      <td>1315.46</td>\n",
       "      <td>115816.21</td>\n",
       "      <td>297114.46</td>\n",
       "      <td>Florida</td>\n",
       "      <td>49490.75</td>\n",
       "    </tr>\n",
       "    <tr>\n",
       "      <th>47</th>\n",
       "      <td>0.00</td>\n",
       "      <td>135426.92</td>\n",
       "      <td>0.00</td>\n",
       "      <td>California</td>\n",
       "      <td>42559.73</td>\n",
       "    </tr>\n",
       "    <tr>\n",
       "      <th>48</th>\n",
       "      <td>542.05</td>\n",
       "      <td>51743.15</td>\n",
       "      <td>0.00</td>\n",
       "      <td>New York</td>\n",
       "      <td>35673.41</td>\n",
       "    </tr>\n",
       "    <tr>\n",
       "      <th>49</th>\n",
       "      <td>0.00</td>\n",
       "      <td>116983.80</td>\n",
       "      <td>45173.06</td>\n",
       "      <td>California</td>\n",
       "      <td>14681.40</td>\n",
       "    </tr>\n",
       "  </tbody>\n",
       "</table>\n",
       "</div>"
      ],
      "text/plain": [
       "    R&D Spend  Administration  Marketing Spend       State    Profit\n",
       "45    1000.23       124153.04          1903.93    New York  64926.08\n",
       "46    1315.46       115816.21        297114.46     Florida  49490.75\n",
       "47       0.00       135426.92             0.00  California  42559.73\n",
       "48     542.05        51743.15             0.00    New York  35673.41\n",
       "49       0.00       116983.80         45173.06  California  14681.40"
      ]
     },
     "execution_count": 123,
     "metadata": {},
     "output_type": "execute_result"
    }
   ],
   "source": [
    "df.tail()"
   ]
  },
  {
   "cell_type": "code",
   "execution_count": 124,
   "id": "8411894f",
   "metadata": {},
   "outputs": [
    {
     "data": {
      "text/plain": [
       "(50, 5)"
      ]
     },
     "execution_count": 124,
     "metadata": {},
     "output_type": "execute_result"
    }
   ],
   "source": [
    "df.shape"
   ]
  },
  {
   "cell_type": "code",
   "execution_count": 125,
   "id": "7166241e",
   "metadata": {},
   "outputs": [
    {
     "data": {
      "text/plain": [
       "R&D Spend          0\n",
       "Administration     0\n",
       "Marketing Spend    0\n",
       "State              0\n",
       "Profit             0\n",
       "dtype: int64"
      ]
     },
     "execution_count": 125,
     "metadata": {},
     "output_type": "execute_result"
    }
   ],
   "source": [
    "df.isna().sum()"
   ]
  },
  {
   "cell_type": "code",
   "execution_count": 126,
   "id": "cc2a04e6",
   "metadata": {
    "scrolled": false
   },
   "outputs": [
    {
     "data": {
      "image/png": "[encoded data removed]",
      "text/plain": [
       "<Figure size 432x288 with 1 Axes>"
      ]
     },
     "metadata": {
      "needs_background": "light"
     },
     "output_type": "display_data"
    },
    {
     "name": "stdout",
     "output_type": "stream",
     "text": [
      "R&D Spend None\n"
     ]
    },
    {
     "data": {
      "image/png": "[encoded data removed]",
      "text/plain": [
       "<Figure size 432x288 with 1 Axes>"
      ]
     },
     "metadata": {
      "needs_background": "light"
     },
     "output_type": "display_data"
    },
    {
     "data": {
      "image/png": "[encoded data removed]",
      "text/plain": [
       "<Figure size 432x288 with 1 Axes>"
      ]
     },
     "metadata": {
      "needs_background": "light"
     },
     "output_type": "display_data"
    },
    {
     "data": {
      "image/png": "[encoded data removed]",
      "text/plain": [
       "<Figure size 432x288 with 1 Axes>"
      ]
     },
     "metadata": {
      "needs_background": "light"
     },
     "output_type": "display_data"
    },
    {
     "name": "stdout",
     "output_type": "stream",
     "text": [
      "Administration None\n"
     ]
    },
    {
     "data": {
      "image/png": "[encoded data removed]",
      "text/plain": [
       "<Figure size 432x288 with 1 Axes>"
      ]
     },
     "metadata": {
      "needs_background": "light"
     },
     "output_type": "display_data"
    },
    {
     "data": {
      "image/png": "[encoded data removed]",
      "text/plain": [
       "<Figure size 432x288 with 1 Axes>"
      ]
     },
     "metadata": {
      "needs_background": "light"
     },
     "output_type": "display_data"
    },
    {
     "data": {
      "image/png": "[encoded data removed]",
      "text/plain": [
       "<Figure size 432x288 with 1 Axes>"
      ]
     },
     "metadata": {
      "needs_background": "light"
     },
     "output_type": "display_data"
    },
    {
     "name": "stdout",
     "output_type": "stream",
     "text": [
      "Marketing Spend None\n"
     ]
    },
    {
     "data": {
      "image/png": "[encoded data removed]",
      "text/plain": [
       "<Figure size 432x288 with 1 Axes>"
      ]
     },
     "metadata": {
      "needs_background": "light"
     },
     "output_type": "display_data"
    },
    {
     "data": {
      "image/png": "[encoded data removed]",
      "text/plain": [
       "<Figure size 432x288 with 1 Axes>"
      ]
     },
     "metadata": {
      "needs_background": "light"
     },
     "output_type": "display_data"
    },
    {
     "data": {
      "image/png": "[encoded data removed]",
      "text/plain": [
       "<Figure size 432x288 with 1 Axes>"
      ]
     },
     "metadata": {
      "needs_background": "light"
     },
     "output_type": "display_data"
    },
    {
     "name": "stdout",
     "output_type": "stream",
     "text": [
      "State None\n"
     ]
    }
   ],
   "source": [
    "X = df.iloc[:,0:4]\n",
    "Y = df[\"Profit\"]\n",
    "import matplotlib.pyplot as plt\n",
    "for i in X:\n",
    "    plt.scatter(x=df[i],y=Y,color = 'g')\n",
    "    print(i,plt.show())\n",
    "    if (i!=\"State\"):\n",
    "        plt.boxplot(X[i])\n",
    "        plt.show()\n",
    "        plt.hist(X[i])\n",
    "        plt.show()\n",
    "        \n",
    "# since state is categorical value the scatter plot looks different and no box plot is present."
   ]
  },
  {
   "cell_type": "markdown",
   "id": "915f0ecb",
   "metadata": {},
   "source": [
    "# "
   ]
  },
  {
   "cell_type": "code",
   "execution_count": 127,
   "id": "b6019cfa",
   "metadata": {},
   "outputs": [
    {
     "data": {
      "text/html": [
       "<div>\n",
       "<style scoped>\n",
       "    .dataframe tbody tr th:only-of-type {\n",
       "        vertical-align: middle;\n",
       "    }\n",
       "\n",
       "    .dataframe tbody tr th {\n",
       "        vertical-align: top;\n",
       "    }\n",
       "\n",
       "    .dataframe thead th {\n",
       "        text-align: right;\n",
       "    }\n",
       "</style>\n",
       "<table border=\"1\" class=\"dataframe\">\n",
       "  <thead>\n",
       "    <tr style=\"text-align: right;\">\n",
       "      <th></th>\n",
       "      <th>R&amp;D Spend</th>\n",
       "      <th>Administration</th>\n",
       "      <th>Marketing Spend</th>\n",
       "      <th>State</th>\n",
       "      <th>Profit</th>\n",
       "    </tr>\n",
       "  </thead>\n",
       "  <tbody>\n",
       "    <tr>\n",
       "      <th>0</th>\n",
       "      <td>165349.20</td>\n",
       "      <td>136897.80</td>\n",
       "      <td>471784.10</td>\n",
       "      <td>2</td>\n",
       "      <td>192261.83</td>\n",
       "    </tr>\n",
       "    <tr>\n",
       "      <th>1</th>\n",
       "      <td>162597.70</td>\n",
       "      <td>151377.59</td>\n",
       "      <td>443898.53</td>\n",
       "      <td>0</td>\n",
       "      <td>191792.06</td>\n",
       "    </tr>\n",
       "    <tr>\n",
       "      <th>2</th>\n",
       "      <td>153441.51</td>\n",
       "      <td>101145.55</td>\n",
       "      <td>407934.54</td>\n",
       "      <td>1</td>\n",
       "      <td>191050.39</td>\n",
       "    </tr>\n",
       "    <tr>\n",
       "      <th>3</th>\n",
       "      <td>144372.41</td>\n",
       "      <td>118671.85</td>\n",
       "      <td>383199.62</td>\n",
       "      <td>2</td>\n",
       "      <td>182901.99</td>\n",
       "    </tr>\n",
       "    <tr>\n",
       "      <th>4</th>\n",
       "      <td>142107.34</td>\n",
       "      <td>91391.77</td>\n",
       "      <td>366168.42</td>\n",
       "      <td>1</td>\n",
       "      <td>166187.94</td>\n",
       "    </tr>\n",
       "    <tr>\n",
       "      <th>5</th>\n",
       "      <td>131876.90</td>\n",
       "      <td>99814.71</td>\n",
       "      <td>362861.36</td>\n",
       "      <td>2</td>\n",
       "      <td>156991.12</td>\n",
       "    </tr>\n",
       "    <tr>\n",
       "      <th>6</th>\n",
       "      <td>134615.46</td>\n",
       "      <td>147198.87</td>\n",
       "      <td>127716.82</td>\n",
       "      <td>0</td>\n",
       "      <td>156122.51</td>\n",
       "    </tr>\n",
       "    <tr>\n",
       "      <th>7</th>\n",
       "      <td>130298.13</td>\n",
       "      <td>145530.06</td>\n",
       "      <td>323876.68</td>\n",
       "      <td>1</td>\n",
       "      <td>155752.60</td>\n",
       "    </tr>\n",
       "    <tr>\n",
       "      <th>8</th>\n",
       "      <td>120542.52</td>\n",
       "      <td>148718.95</td>\n",
       "      <td>311613.29</td>\n",
       "      <td>2</td>\n",
       "      <td>152211.77</td>\n",
       "    </tr>\n",
       "    <tr>\n",
       "      <th>9</th>\n",
       "      <td>123334.88</td>\n",
       "      <td>108679.17</td>\n",
       "      <td>304981.62</td>\n",
       "      <td>0</td>\n",
       "      <td>149759.96</td>\n",
       "    </tr>\n",
       "    <tr>\n",
       "      <th>10</th>\n",
       "      <td>101913.08</td>\n",
       "      <td>110594.11</td>\n",
       "      <td>229160.95</td>\n",
       "      <td>1</td>\n",
       "      <td>146121.95</td>\n",
       "    </tr>\n",
       "    <tr>\n",
       "      <th>11</th>\n",
       "      <td>100671.96</td>\n",
       "      <td>91790.61</td>\n",
       "      <td>249744.55</td>\n",
       "      <td>0</td>\n",
       "      <td>144259.40</td>\n",
       "    </tr>\n",
       "    <tr>\n",
       "      <th>12</th>\n",
       "      <td>93863.75</td>\n",
       "      <td>127320.38</td>\n",
       "      <td>249839.44</td>\n",
       "      <td>1</td>\n",
       "      <td>141585.52</td>\n",
       "    </tr>\n",
       "    <tr>\n",
       "      <th>13</th>\n",
       "      <td>91992.39</td>\n",
       "      <td>135495.07</td>\n",
       "      <td>252664.93</td>\n",
       "      <td>0</td>\n",
       "      <td>134307.35</td>\n",
       "    </tr>\n",
       "    <tr>\n",
       "      <th>14</th>\n",
       "      <td>119943.24</td>\n",
       "      <td>156547.42</td>\n",
       "      <td>256512.92</td>\n",
       "      <td>1</td>\n",
       "      <td>132602.65</td>\n",
       "    </tr>\n",
       "    <tr>\n",
       "      <th>15</th>\n",
       "      <td>114523.61</td>\n",
       "      <td>122616.84</td>\n",
       "      <td>261776.23</td>\n",
       "      <td>2</td>\n",
       "      <td>129917.04</td>\n",
       "    </tr>\n",
       "    <tr>\n",
       "      <th>16</th>\n",
       "      <td>78013.11</td>\n",
       "      <td>121597.55</td>\n",
       "      <td>264346.06</td>\n",
       "      <td>0</td>\n",
       "      <td>126992.93</td>\n",
       "    </tr>\n",
       "    <tr>\n",
       "      <th>17</th>\n",
       "      <td>94657.16</td>\n",
       "      <td>145077.58</td>\n",
       "      <td>282574.31</td>\n",
       "      <td>2</td>\n",
       "      <td>125370.37</td>\n",
       "    </tr>\n",
       "    <tr>\n",
       "      <th>18</th>\n",
       "      <td>91749.16</td>\n",
       "      <td>114175.79</td>\n",
       "      <td>294919.57</td>\n",
       "      <td>1</td>\n",
       "      <td>124266.90</td>\n",
       "    </tr>\n",
       "    <tr>\n",
       "      <th>19</th>\n",
       "      <td>86419.70</td>\n",
       "      <td>153514.11</td>\n",
       "      <td>0.00</td>\n",
       "      <td>2</td>\n",
       "      <td>122776.86</td>\n",
       "    </tr>\n",
       "    <tr>\n",
       "      <th>20</th>\n",
       "      <td>76253.86</td>\n",
       "      <td>113867.30</td>\n",
       "      <td>298664.47</td>\n",
       "      <td>0</td>\n",
       "      <td>118474.03</td>\n",
       "    </tr>\n",
       "    <tr>\n",
       "      <th>21</th>\n",
       "      <td>78389.47</td>\n",
       "      <td>153773.43</td>\n",
       "      <td>299737.29</td>\n",
       "      <td>2</td>\n",
       "      <td>111313.02</td>\n",
       "    </tr>\n",
       "    <tr>\n",
       "      <th>22</th>\n",
       "      <td>73994.56</td>\n",
       "      <td>122782.75</td>\n",
       "      <td>303319.26</td>\n",
       "      <td>1</td>\n",
       "      <td>110352.25</td>\n",
       "    </tr>\n",
       "    <tr>\n",
       "      <th>23</th>\n",
       "      <td>67532.53</td>\n",
       "      <td>105751.03</td>\n",
       "      <td>304768.73</td>\n",
       "      <td>1</td>\n",
       "      <td>108733.99</td>\n",
       "    </tr>\n",
       "    <tr>\n",
       "      <th>24</th>\n",
       "      <td>77044.01</td>\n",
       "      <td>99281.34</td>\n",
       "      <td>140574.81</td>\n",
       "      <td>2</td>\n",
       "      <td>108552.04</td>\n",
       "    </tr>\n",
       "    <tr>\n",
       "      <th>25</th>\n",
       "      <td>64664.71</td>\n",
       "      <td>139553.16</td>\n",
       "      <td>137962.62</td>\n",
       "      <td>0</td>\n",
       "      <td>107404.34</td>\n",
       "    </tr>\n",
       "    <tr>\n",
       "      <th>26</th>\n",
       "      <td>75328.87</td>\n",
       "      <td>144135.98</td>\n",
       "      <td>134050.07</td>\n",
       "      <td>1</td>\n",
       "      <td>105733.54</td>\n",
       "    </tr>\n",
       "    <tr>\n",
       "      <th>27</th>\n",
       "      <td>72107.60</td>\n",
       "      <td>127864.55</td>\n",
       "      <td>353183.81</td>\n",
       "      <td>2</td>\n",
       "      <td>105008.31</td>\n",
       "    </tr>\n",
       "    <tr>\n",
       "      <th>28</th>\n",
       "      <td>66051.52</td>\n",
       "      <td>182645.56</td>\n",
       "      <td>118148.20</td>\n",
       "      <td>1</td>\n",
       "      <td>103282.38</td>\n",
       "    </tr>\n",
       "    <tr>\n",
       "      <th>29</th>\n",
       "      <td>65605.48</td>\n",
       "      <td>153032.06</td>\n",
       "      <td>107138.38</td>\n",
       "      <td>2</td>\n",
       "      <td>101004.64</td>\n",
       "    </tr>\n",
       "    <tr>\n",
       "      <th>30</th>\n",
       "      <td>61994.48</td>\n",
       "      <td>115641.28</td>\n",
       "      <td>91131.24</td>\n",
       "      <td>1</td>\n",
       "      <td>99937.59</td>\n",
       "    </tr>\n",
       "    <tr>\n",
       "      <th>31</th>\n",
       "      <td>61136.38</td>\n",
       "      <td>152701.92</td>\n",
       "      <td>88218.23</td>\n",
       "      <td>2</td>\n",
       "      <td>97483.56</td>\n",
       "    </tr>\n",
       "    <tr>\n",
       "      <th>32</th>\n",
       "      <td>63408.86</td>\n",
       "      <td>129219.61</td>\n",
       "      <td>46085.25</td>\n",
       "      <td>0</td>\n",
       "      <td>97427.84</td>\n",
       "    </tr>\n",
       "    <tr>\n",
       "      <th>33</th>\n",
       "      <td>55493.95</td>\n",
       "      <td>103057.49</td>\n",
       "      <td>214634.81</td>\n",
       "      <td>1</td>\n",
       "      <td>96778.92</td>\n",
       "    </tr>\n",
       "    <tr>\n",
       "      <th>34</th>\n",
       "      <td>46426.07</td>\n",
       "      <td>157693.92</td>\n",
       "      <td>210797.67</td>\n",
       "      <td>0</td>\n",
       "      <td>96712.80</td>\n",
       "    </tr>\n",
       "    <tr>\n",
       "      <th>35</th>\n",
       "      <td>46014.02</td>\n",
       "      <td>85047.44</td>\n",
       "      <td>205517.64</td>\n",
       "      <td>2</td>\n",
       "      <td>96479.51</td>\n",
       "    </tr>\n",
       "    <tr>\n",
       "      <th>36</th>\n",
       "      <td>28663.76</td>\n",
       "      <td>127056.21</td>\n",
       "      <td>201126.82</td>\n",
       "      <td>1</td>\n",
       "      <td>90708.19</td>\n",
       "    </tr>\n",
       "    <tr>\n",
       "      <th>37</th>\n",
       "      <td>44069.95</td>\n",
       "      <td>51283.14</td>\n",
       "      <td>197029.42</td>\n",
       "      <td>0</td>\n",
       "      <td>89949.14</td>\n",
       "    </tr>\n",
       "    <tr>\n",
       "      <th>38</th>\n",
       "      <td>20229.59</td>\n",
       "      <td>65947.93</td>\n",
       "      <td>185265.10</td>\n",
       "      <td>2</td>\n",
       "      <td>81229.06</td>\n",
       "    </tr>\n",
       "    <tr>\n",
       "      <th>39</th>\n",
       "      <td>38558.51</td>\n",
       "      <td>82982.09</td>\n",
       "      <td>174999.30</td>\n",
       "      <td>0</td>\n",
       "      <td>81005.76</td>\n",
       "    </tr>\n",
       "    <tr>\n",
       "      <th>40</th>\n",
       "      <td>28754.33</td>\n",
       "      <td>118546.05</td>\n",
       "      <td>172795.67</td>\n",
       "      <td>0</td>\n",
       "      <td>78239.91</td>\n",
       "    </tr>\n",
       "    <tr>\n",
       "      <th>41</th>\n",
       "      <td>27892.92</td>\n",
       "      <td>84710.77</td>\n",
       "      <td>164470.71</td>\n",
       "      <td>1</td>\n",
       "      <td>77798.83</td>\n",
       "    </tr>\n",
       "    <tr>\n",
       "      <th>42</th>\n",
       "      <td>23640.93</td>\n",
       "      <td>96189.63</td>\n",
       "      <td>148001.11</td>\n",
       "      <td>0</td>\n",
       "      <td>71498.49</td>\n",
       "    </tr>\n",
       "    <tr>\n",
       "      <th>43</th>\n",
       "      <td>15505.73</td>\n",
       "      <td>127382.30</td>\n",
       "      <td>35534.17</td>\n",
       "      <td>2</td>\n",
       "      <td>69758.98</td>\n",
       "    </tr>\n",
       "    <tr>\n",
       "      <th>44</th>\n",
       "      <td>22177.74</td>\n",
       "      <td>154806.14</td>\n",
       "      <td>28334.72</td>\n",
       "      <td>0</td>\n",
       "      <td>65200.33</td>\n",
       "    </tr>\n",
       "    <tr>\n",
       "      <th>45</th>\n",
       "      <td>1000.23</td>\n",
       "      <td>124153.04</td>\n",
       "      <td>1903.93</td>\n",
       "      <td>2</td>\n",
       "      <td>64926.08</td>\n",
       "    </tr>\n",
       "    <tr>\n",
       "      <th>46</th>\n",
       "      <td>1315.46</td>\n",
       "      <td>115816.21</td>\n",
       "      <td>297114.46</td>\n",
       "      <td>1</td>\n",
       "      <td>49490.75</td>\n",
       "    </tr>\n",
       "    <tr>\n",
       "      <th>47</th>\n",
       "      <td>0.00</td>\n",
       "      <td>135426.92</td>\n",
       "      <td>0.00</td>\n",
       "      <td>0</td>\n",
       "      <td>42559.73</td>\n",
       "    </tr>\n",
       "    <tr>\n",
       "      <th>48</th>\n",
       "      <td>542.05</td>\n",
       "      <td>51743.15</td>\n",
       "      <td>0.00</td>\n",
       "      <td>2</td>\n",
       "      <td>35673.41</td>\n",
       "    </tr>\n",
       "    <tr>\n",
       "      <th>49</th>\n",
       "      <td>0.00</td>\n",
       "      <td>116983.80</td>\n",
       "      <td>45173.06</td>\n",
       "      <td>0</td>\n",
       "      <td>14681.40</td>\n",
       "    </tr>\n",
       "  </tbody>\n",
       "</table>\n",
       "</div>"
      ],
      "text/plain": [
       "    R&D Spend  Administration  Marketing Spend  State     Profit\n",
       "0   165349.20       136897.80        471784.10      2  192261.83\n",
       "1   162597.70       151377.59        443898.53      0  191792.06\n",
       "2   153441.51       101145.55        407934.54      1  191050.39\n",
       "3   144372.41       118671.85        383199.62      2  182901.99\n",
       "4   142107.34        91391.77        366168.42      1  166187.94\n",
       "5   131876.90        99814.71        362861.36      2  156991.12\n",
       "6   134615.46       147198.87        127716.82      0  156122.51\n",
       "7   130298.13       145530.06        323876.68      1  155752.60\n",
       "8   120542.52       148718.95        311613.29      2  152211.77\n",
       "9   123334.88       108679.17        304981.62      0  149759.96\n",
       "10  101913.08       110594.11        229160.95      1  146121.95\n",
       "11  100671.96        91790.61        249744.55      0  144259.40\n",
       "12   93863.75       127320.38        249839.44      1  141585.52\n",
       "13   91992.39       135495.07        252664.93      0  134307.35\n",
       "14  119943.24       156547.42        256512.92      1  132602.65\n",
       "15  114523.61       122616.84        261776.23      2  129917.04\n",
       "16   78013.11       121597.55        264346.06      0  126992.93\n",
       "17   94657.16       145077.58        282574.31      2  125370.37\n",
       "18   91749.16       114175.79        294919.57      1  124266.90\n",
       "19   86419.70       153514.11             0.00      2  122776.86\n",
       "20   76253.86       113867.30        298664.47      0  118474.03\n",
       "21   78389.47       153773.43        299737.29      2  111313.02\n",
       "22   73994.56       122782.75        303319.26      1  110352.25\n",
       "23   67532.53       105751.03        304768.73      1  108733.99\n",
       "24   77044.01        99281.34        140574.81      2  108552.04\n",
       "25   64664.71       139553.16        137962.62      0  107404.34\n",
       "26   75328.87       144135.98        134050.07      1  105733.54\n",
       "27   72107.60       127864.55        353183.81      2  105008.31\n",
       "28   66051.52       182645.56        118148.20      1  103282.38\n",
       "29   65605.48       153032.06        107138.38      2  101004.64\n",
       "30   61994.48       115641.28         91131.24      1   99937.59\n",
       "31   61136.38       152701.92         88218.23      2   97483.56\n",
       "32   63408.86       129219.61         46085.25      0   97427.84\n",
       "33   55493.95       103057.49        214634.81      1   96778.92\n",
       "34   46426.07       157693.92        210797.67      0   96712.80\n",
       "35   46014.02        85047.44        205517.64      2   96479.51\n",
       "36   28663.76       127056.21        201126.82      1   90708.19\n",
       "37   44069.95        51283.14        197029.42      0   89949.14\n",
       "38   20229.59        65947.93        185265.10      2   81229.06\n",
       "39   38558.51        82982.09        174999.30      0   81005.76\n",
       "40   28754.33       118546.05        172795.67      0   78239.91\n",
       "41   27892.92        84710.77        164470.71      1   77798.83\n",
       "42   23640.93        96189.63        148001.11      0   71498.49\n",
       "43   15505.73       127382.30         35534.17      2   69758.98\n",
       "44   22177.74       154806.14         28334.72      0   65200.33\n",
       "45    1000.23       124153.04          1903.93      2   64926.08\n",
       "46    1315.46       115816.21        297114.46      1   49490.75\n",
       "47       0.00       135426.92             0.00      0   42559.73\n",
       "48     542.05        51743.15             0.00      2   35673.41\n",
       "49       0.00       116983.80         45173.06      0   14681.40"
      ]
     },
     "execution_count": 127,
     "metadata": {},
     "output_type": "execute_result"
    }
   ],
   "source": [
    "from sklearn.preprocessing import LabelEncoder\n",
    "LE =LabelEncoder()\n",
    "df[\"State\"] = LE.fit_transform(df[\"State\"])\n",
    "df"
   ]
  },
  {
   "cell_type": "code",
   "execution_count": 128,
   "id": "8e6ea1b2",
   "metadata": {},
   "outputs": [
    {
     "data": {
      "text/plain": [
       "R&D Spend          0\n",
       "Administration     0\n",
       "Marketing Spend    0\n",
       "State              0\n",
       "Profit             0\n",
       "dtype: int64"
      ]
     },
     "execution_count": 128,
     "metadata": {},
     "output_type": "execute_result"
    }
   ],
   "source": [
    "df.isna().sum()"
   ]
  },
  {
   "cell_type": "code",
   "execution_count": 129,
   "id": "5b2789ec",
   "metadata": {},
   "outputs": [
    {
     "name": "stdout",
     "output_type": "stream",
     "text": [
      "r2 0.9507459940683246\n",
      "root mean square error 8855.344489015139\n"
     ]
    }
   ],
   "source": [
    "X = df.iloc[:,0:3]\n",
    "Y = df[\"Profit\"]\n",
    "from sklearn.preprocessing import StandardScaler\n",
    "SS=StandardScaler()\n",
    "ss= SS.fit_transform(X)\n",
    "from sklearn.linear_model import LinearRegression\n",
    "LR=LinearRegression()\n",
    "LR.fit(X,Y)\n",
    "ypred = LR.predict(X)\n",
    "from sklearn.metrics import r2_score\n",
    "from sklearn.metrics import mean_squared_error\n",
    "r2=r2_score(Y,ypred)\n",
    "Mse= mean_squared_error(Y,ypred)\n",
    "print('r2',r2)\n",
    "print(\"root mean square error\",np.sqrt(Mse))"
   ]
  },
  {
   "cell_type": "markdown",
   "id": "cb742de9",
   "metadata": {},
   "source": [
    "checking collinearity issues between two variables based on correlation"
   ]
  },
  {
   "cell_type": "code",
   "execution_count": 130,
   "id": "fecf9cec",
   "metadata": {},
   "outputs": [
    {
     "name": "stdout",
     "output_type": "stream",
     "text": [
      "r2 0.5245353582320298\n"
     ]
    }
   ],
   "source": [
    "X=df[[\"R&D Spend\"]]\n",
    "Y = df[\"Marketing Spend\"]\n",
    "from sklearn.linear_model import LinearRegression\n",
    "LR=LinearRegression()\n",
    "LR.fit(X,Y)\n",
    "ypred = LR.predict(X)\n",
    "from sklearn.metrics import r2_score\n",
    "from sklearn.metrics import mean_squared_error\n",
    "r2=r2_score(Y,ypred)\n",
    "Mse= mean_squared_error(Y,ypred)\n",
    "print('r2',r2)\n"
   ]
  },
  {
   "cell_type": "code",
   "execution_count": 131,
   "id": "91e7f98f",
   "metadata": {},
   "outputs": [
    {
     "data": {
      "text/plain": [
       "2.1032058162760427"
      ]
     },
     "execution_count": 131,
     "metadata": {},
     "output_type": "execute_result"
    }
   ],
   "source": [
    "r2=r2_score(Y,ypred)\n",
    "vif = 1/(1-r2)\n",
    "vif"
   ]
  },
  {
   "cell_type": "markdown",
   "id": "c3eab82c",
   "metadata": {},
   "source": [
    "Testing and training the data"
   ]
  },
  {
   "cell_type": "code",
   "execution_count": 132,
   "id": "8daac840",
   "metadata": {
    "scrolled": false
   },
   "outputs": [
    {
     "name": "stdout",
     "output_type": "stream",
     "text": [
      "[90402071.07772762, 88615175.58859673, 89449488.50437818, 95392451.45660526, 46533806.31452288, 52165519.60802616, 89164369.06330352, 101718497.93886317, 90594869.27330977, 89842359.3916475, 55038848.53269971, 97764223.56677413, 78607681.80529316, 64588038.35380015, 41638811.68189991, 56273552.15236117, 77333943.50592312, 90606358.92734233, 52617018.02394852, 84859754.94537044, 100987259.80136159, 49963998.2791874, 96559875.24528894, 84584336.02163804, 87343257.80759351, 77811967.38419001, 87124527.86244105, 78841825.03312518, 55506906.77815794, 77980975.27444644, 58886588.08679737, 84566284.52116393, 55278924.812401935, 63763161.73141937, 53236973.998062514, 84381306.6581575, 91918344.54879718, 82634351.29196909, 41187322.97433773, 96665424.34907308, 82260519.4395543, 35439387.666913904, 62088276.16247963, 80820567.42784888, 57773940.48668872, 54475225.87057071, 75508692.55000053, 66025540.62893652, 49329616.50483514, 70672650.09350689, 90632487.95801088, 72114103.88390362, 67182785.0640076, 77460241.17802039, 46535699.99481174, 56702974.58182111, 84030100.30863109, 82011993.94833855, 96562801.84386243, 91604947.35489616, 59261424.66235713, 99658532.34410694, 91434560.00969446, 85619261.02696103, 92521098.37013638, 74145794.35623349, 70974934.58179037, 50136151.19946175, 45940312.551287375, 95542734.84611583, 63486628.20185337, 94382319.68312858, 62804307.34512829, 93467651.37095682, 77350936.58759877, 59504740.552567735, 84003765.48320524, 88731743.81799582, 78381059.82697001, 51314392.2425718, 93596164.35964172, 78917210.02465515, 83209575.95958638, 74327815.69143987, 82179886.22006144, 80599028.97503851, 76245782.2229914, 77602866.12826025, 80673650.06960972, 86975836.75691569, 74921359.22929291, 59678943.60164406, 86828017.15477309, 78487358.91343735, 49143586.457766876, 84795315.09532982, 87189525.98244138, 86912030.9753247, 41737721.9727599]\n",
      "[56052271.202907644, 58521586.83638617, 54952499.44123599, 46004065.86106447, 154257150.90620315, 146178947.9938667, 65346774.697522685, 25434823.7002209, 51190195.34546362, 52869421.489693865, 143973203.35575953, 35557458.76926591, 86707514.70724662, 139744338.9282281, 173855288.73962548, 158234351.59024963, 98977835.5350808, 51965330.55923917, 147423818.2744697, 74319193.65223487, 25958091.731607255, 158230044.65639484, 47343860.92298223, 75278937.57413915, 64075355.61128095, 87105029.33613734, 62100848.42263665, 93624969.87542753, 137908102.42531696, 95455728.48558868, 141060818.7876669, 78664734.01996683, 140061653.2418776, 117245698.31580776, 142906496.0564005, 80024821.53015502, 54340313.217534885, 69603780.73039058, 189975386.1785379, 37768100.336570956, 78564175.11246319, 187942178.17486867, 121504571.51713465, 76567464.5820296, 164496766.32759792, 149486205.13658124, 101004700.41188386, 132206540.95914005, 156546520.4759886, 107066853.75626339, 53401329.66549588, 107051708.37505586, 116928575.25882427, 88249398.94438006, 164107071.40136954, 141853674.08567223, 79627507.3024662, 73740027.43996494, 42102410.1410313, 49658528.690078385, 142835796.77750498, 35658996.03615338, 58151848.29135741, 71733191.90717298, 56289930.19626444, 97505654.60219312, 114959737.50771564, 165991072.34910113, 210906954.4296818, 41939210.49301767, 126421915.3012643, 47552300.28591776, 119917467.35941775, 43463437.04236397, 90201064.26906615, 148197459.1874719, 67662964.0479055, 58548093.77860595, 88850862.19286487, 150738159.9485639, 50476925.32208686, 86541254.63556534, 73726123.91939044, 94208471.75781505, 86326262.08465871, 83173444.95975718, 92404232.08713126, 97756331.33045302, 77805879.23860821, 69972626.55119698, 91838903.66316536, 149250932.69458303, 60093053.2733736, 83351229.2536315, 190541927.97865057, 73222374.22156303, 64078604.07238297, 60037404.134535775, 179168350.71765327]\n",
      "mean of all training root mean square errors 8601.233895510066\n",
      "mean of all testing root mean square errors 9597.098291137918\n"
     ]
    }
   ],
   "source": [
    "X = df.iloc[:,0:3]\n",
    "Y = df[\"Profit\"]\n",
    "from sklearn.model_selection import train_test_split\n",
    "mse_train=[]\n",
    "mse_test=[]\n",
    "for i in range(1,100):\n",
    "    X_train,X_test,Y_train,Y_test = train_test_split(ss,Y, test_size=0.3)\n",
    "    LR.fit(X_train,Y_train)\n",
    "    Y_pred_train=LR.predict(X_train)\n",
    "    Y_pred_test = LR.predict(X_test)\n",
    "    mse_train.append(mean_squared_error(Y_train,Y_pred_train))\n",
    "    mse_test.append(mean_squared_error(Y_test,Y_pred_test))\n",
    "print(mse_train)\n",
    "print(mse_test)\n",
    "\n",
    "\n",
    "import numpy as np\n",
    "y = np.mean(np.sqrt(mse_train))\n",
    "print(\"mean of all training root mean square errors\", y)\n",
    "a = np.mean(np.sqrt(mse_test))\n",
    "print(\"mean of all testing root mean square errors\",a)"
   ]
  },
  {
   "cell_type": "markdown",
   "id": "390d6e27",
   "metadata": {},
   "source": [
    "#  applying log transformations"
   ]
  },
  {
   "cell_type": "code",
   "execution_count": 133,
   "id": "2b8c9efb",
   "metadata": {
    "scrolled": false
   },
   "outputs": [
    {
     "name": "stderr",
     "output_type": "stream",
     "text": [
      "C:\\Users\\satam\\anaconda3\\lib\\site-packages\\pandas\\core\\arraylike.py:364: RuntimeWarning: divide by zero encountered in log\n",
      "  result = getattr(ufunc, method)(*inputs, **kwargs)\n"
     ]
    },
    {
     "data": {
      "text/html": [
       "<div>\n",
       "<style scoped>\n",
       "    .dataframe tbody tr th:only-of-type {\n",
       "        vertical-align: middle;\n",
       "    }\n",
       "\n",
       "    .dataframe tbody tr th {\n",
       "        vertical-align: top;\n",
       "    }\n",
       "\n",
       "    .dataframe thead th {\n",
       "        text-align: right;\n",
       "    }\n",
       "</style>\n",
       "<table border=\"1\" class=\"dataframe\">\n",
       "  <thead>\n",
       "    <tr style=\"text-align: right;\">\n",
       "      <th></th>\n",
       "      <th>R&amp;D Spend</th>\n",
       "      <th>Administration</th>\n",
       "      <th>Marketing Spend</th>\n",
       "    </tr>\n",
       "  </thead>\n",
       "  <tbody>\n",
       "    <tr>\n",
       "      <th>0</th>\n",
       "      <td>12.015815</td>\n",
       "      <td>11.826990</td>\n",
       "      <td>13.064277</td>\n",
       "    </tr>\n",
       "    <tr>\n",
       "      <th>1</th>\n",
       "      <td>11.999034</td>\n",
       "      <td>11.927533</td>\n",
       "      <td>13.003351</td>\n",
       "    </tr>\n",
       "    <tr>\n",
       "      <th>2</th>\n",
       "      <td>11.941075</td>\n",
       "      <td>11.524316</td>\n",
       "      <td>12.918862</td>\n",
       "    </tr>\n",
       "    <tr>\n",
       "      <th>3</th>\n",
       "      <td>11.880151</td>\n",
       "      <td>11.684117</td>\n",
       "      <td>12.856311</td>\n",
       "    </tr>\n",
       "    <tr>\n",
       "      <th>4</th>\n",
       "      <td>11.864338</td>\n",
       "      <td>11.422911</td>\n",
       "      <td>12.810849</td>\n",
       "    </tr>\n",
       "    <tr>\n",
       "      <th>5</th>\n",
       "      <td>11.789624</td>\n",
       "      <td>11.511071</td>\n",
       "      <td>12.801776</td>\n",
       "    </tr>\n",
       "    <tr>\n",
       "      <th>6</th>\n",
       "      <td>11.810178</td>\n",
       "      <td>11.899540</td>\n",
       "      <td>11.757571</td>\n",
       "    </tr>\n",
       "    <tr>\n",
       "      <th>7</th>\n",
       "      <td>11.777580</td>\n",
       "      <td>11.888138</td>\n",
       "      <td>12.688118</td>\n",
       "    </tr>\n",
       "    <tr>\n",
       "      <th>8</th>\n",
       "      <td>11.699758</td>\n",
       "      <td>11.909814</td>\n",
       "      <td>12.649518</td>\n",
       "    </tr>\n",
       "    <tr>\n",
       "      <th>9</th>\n",
       "      <td>11.722659</td>\n",
       "      <td>11.596155</td>\n",
       "      <td>12.628007</td>\n",
       "    </tr>\n",
       "    <tr>\n",
       "      <th>10</th>\n",
       "      <td>11.531876</td>\n",
       "      <td>11.613622</td>\n",
       "      <td>12.342180</td>\n",
       "    </tr>\n",
       "    <tr>\n",
       "      <th>11</th>\n",
       "      <td>11.519623</td>\n",
       "      <td>11.427265</td>\n",
       "      <td>12.428194</td>\n",
       "    </tr>\n",
       "    <tr>\n",
       "      <th>12</th>\n",
       "      <td>11.449600</td>\n",
       "      <td>11.754462</td>\n",
       "      <td>12.428574</td>\n",
       "    </tr>\n",
       "    <tr>\n",
       "      <th>13</th>\n",
       "      <td>11.429461</td>\n",
       "      <td>11.816691</td>\n",
       "      <td>12.439820</td>\n",
       "    </tr>\n",
       "    <tr>\n",
       "      <th>14</th>\n",
       "      <td>11.694774</td>\n",
       "      <td>11.961114</td>\n",
       "      <td>12.454934</td>\n",
       "    </tr>\n",
       "    <tr>\n",
       "      <th>15</th>\n",
       "      <td>11.648536</td>\n",
       "      <td>11.716820</td>\n",
       "      <td>12.475245</td>\n",
       "    </tr>\n",
       "    <tr>\n",
       "      <th>16</th>\n",
       "      <td>11.264632</td>\n",
       "      <td>11.708472</td>\n",
       "      <td>12.485014</td>\n",
       "    </tr>\n",
       "    <tr>\n",
       "      <th>17</th>\n",
       "      <td>11.458017</td>\n",
       "      <td>11.885024</td>\n",
       "      <td>12.551697</td>\n",
       "    </tr>\n",
       "    <tr>\n",
       "      <th>18</th>\n",
       "      <td>11.426814</td>\n",
       "      <td>11.645495</td>\n",
       "      <td>12.594458</td>\n",
       "    </tr>\n",
       "    <tr>\n",
       "      <th>19</th>\n",
       "      <td>11.366971</td>\n",
       "      <td>11.941548</td>\n",
       "      <td>-inf</td>\n",
       "    </tr>\n",
       "    <tr>\n",
       "      <th>20</th>\n",
       "      <td>11.241823</td>\n",
       "      <td>11.642789</td>\n",
       "      <td>12.607076</td>\n",
       "    </tr>\n",
       "    <tr>\n",
       "      <th>21</th>\n",
       "      <td>11.269445</td>\n",
       "      <td>11.943236</td>\n",
       "      <td>12.610662</td>\n",
       "    </tr>\n",
       "    <tr>\n",
       "      <th>22</th>\n",
       "      <td>11.211747</td>\n",
       "      <td>11.718172</td>\n",
       "      <td>12.622541</td>\n",
       "    </tr>\n",
       "    <tr>\n",
       "      <th>23</th>\n",
       "      <td>11.120365</td>\n",
       "      <td>11.568843</td>\n",
       "      <td>12.627309</td>\n",
       "    </tr>\n",
       "    <tr>\n",
       "      <th>24</th>\n",
       "      <td>11.252132</td>\n",
       "      <td>11.505713</td>\n",
       "      <td>11.853495</td>\n",
       "    </tr>\n",
       "    <tr>\n",
       "      <th>25</th>\n",
       "      <td>11.076971</td>\n",
       "      <td>11.846201</td>\n",
       "      <td>11.834738</td>\n",
       "    </tr>\n",
       "    <tr>\n",
       "      <th>26</th>\n",
       "      <td>11.229619</td>\n",
       "      <td>11.878512</td>\n",
       "      <td>11.805969</td>\n",
       "    </tr>\n",
       "    <tr>\n",
       "      <th>27</th>\n",
       "      <td>11.185915</td>\n",
       "      <td>11.758727</td>\n",
       "      <td>12.774744</td>\n",
       "    </tr>\n",
       "    <tr>\n",
       "      <th>28</th>\n",
       "      <td>11.098190</td>\n",
       "      <td>12.115303</td>\n",
       "      <td>11.679695</td>\n",
       "    </tr>\n",
       "    <tr>\n",
       "      <th>29</th>\n",
       "      <td>11.091415</td>\n",
       "      <td>11.938403</td>\n",
       "      <td>11.581877</td>\n",
       "    </tr>\n",
       "    <tr>\n",
       "      <th>30</th>\n",
       "      <td>11.034801</td>\n",
       "      <td>11.658248</td>\n",
       "      <td>11.420056</td>\n",
       "    </tr>\n",
       "    <tr>\n",
       "      <th>31</th>\n",
       "      <td>11.020862</td>\n",
       "      <td>11.936243</td>\n",
       "      <td>11.387569</td>\n",
       "    </tr>\n",
       "    <tr>\n",
       "      <th>32</th>\n",
       "      <td>11.057359</td>\n",
       "      <td>11.769269</td>\n",
       "      <td>10.738248</td>\n",
       "    </tr>\n",
       "    <tr>\n",
       "      <th>33</th>\n",
       "      <td>10.924029</td>\n",
       "      <td>11.543042</td>\n",
       "      <td>12.276693</td>\n",
       "    </tr>\n",
       "    <tr>\n",
       "      <th>34</th>\n",
       "      <td>10.745616</td>\n",
       "      <td>11.968411</td>\n",
       "      <td>12.258654</td>\n",
       "    </tr>\n",
       "    <tr>\n",
       "      <th>35</th>\n",
       "      <td>10.736701</td>\n",
       "      <td>11.350964</td>\n",
       "      <td>12.233287</td>\n",
       "    </tr>\n",
       "    <tr>\n",
       "      <th>36</th>\n",
       "      <td>10.263389</td>\n",
       "      <td>11.752385</td>\n",
       "      <td>12.211691</td>\n",
       "    </tr>\n",
       "    <tr>\n",
       "      <th>37</th>\n",
       "      <td>10.693533</td>\n",
       "      <td>10.845117</td>\n",
       "      <td>12.191108</td>\n",
       "    </tr>\n",
       "    <tr>\n",
       "      <th>38</th>\n",
       "      <td>9.914902</td>\n",
       "      <td>11.096621</td>\n",
       "      <td>12.129543</td>\n",
       "    </tr>\n",
       "    <tr>\n",
       "      <th>39</th>\n",
       "      <td>10.559932</td>\n",
       "      <td>11.326380</td>\n",
       "      <td>12.072537</td>\n",
       "    </tr>\n",
       "    <tr>\n",
       "      <th>40</th>\n",
       "      <td>10.266544</td>\n",
       "      <td>11.683057</td>\n",
       "      <td>12.059865</td>\n",
       "    </tr>\n",
       "    <tr>\n",
       "      <th>41</th>\n",
       "      <td>10.236128</td>\n",
       "      <td>11.346998</td>\n",
       "      <td>12.010488</td>\n",
       "    </tr>\n",
       "    <tr>\n",
       "      <th>42</th>\n",
       "      <td>10.070735</td>\n",
       "      <td>11.474077</td>\n",
       "      <td>11.904975</td>\n",
       "    </tr>\n",
       "    <tr>\n",
       "      <th>43</th>\n",
       "      <td>9.648965</td>\n",
       "      <td>11.754948</td>\n",
       "      <td>10.478250</td>\n",
       "    </tr>\n",
       "    <tr>\n",
       "      <th>44</th>\n",
       "      <td>10.006844</td>\n",
       "      <td>11.949929</td>\n",
       "      <td>10.251843</td>\n",
       "    </tr>\n",
       "    <tr>\n",
       "      <th>45</th>\n",
       "      <td>6.907985</td>\n",
       "      <td>11.729270</td>\n",
       "      <td>7.551675</td>\n",
       "    </tr>\n",
       "    <tr>\n",
       "      <th>46</th>\n",
       "      <td>7.181942</td>\n",
       "      <td>11.659760</td>\n",
       "      <td>12.601873</td>\n",
       "    </tr>\n",
       "    <tr>\n",
       "      <th>47</th>\n",
       "      <td>-inf</td>\n",
       "      <td>11.816187</td>\n",
       "      <td>-inf</td>\n",
       "    </tr>\n",
       "    <tr>\n",
       "      <th>48</th>\n",
       "      <td>6.295358</td>\n",
       "      <td>10.854047</td>\n",
       "      <td>-inf</td>\n",
       "    </tr>\n",
       "    <tr>\n",
       "      <th>49</th>\n",
       "      <td>-inf</td>\n",
       "      <td>11.669791</td>\n",
       "      <td>10.718256</td>\n",
       "    </tr>\n",
       "  </tbody>\n",
       "</table>\n",
       "</div>"
      ],
      "text/plain": [
       "    R&D Spend  Administration  Marketing Spend\n",
       "0   12.015815       11.826990        13.064277\n",
       "1   11.999034       11.927533        13.003351\n",
       "2   11.941075       11.524316        12.918862\n",
       "3   11.880151       11.684117        12.856311\n",
       "4   11.864338       11.422911        12.810849\n",
       "5   11.789624       11.511071        12.801776\n",
       "6   11.810178       11.899540        11.757571\n",
       "7   11.777580       11.888138        12.688118\n",
       "8   11.699758       11.909814        12.649518\n",
       "9   11.722659       11.596155        12.628007\n",
       "10  11.531876       11.613622        12.342180\n",
       "11  11.519623       11.427265        12.428194\n",
       "12  11.449600       11.754462        12.428574\n",
       "13  11.429461       11.816691        12.439820\n",
       "14  11.694774       11.961114        12.454934\n",
       "15  11.648536       11.716820        12.475245\n",
       "16  11.264632       11.708472        12.485014\n",
       "17  11.458017       11.885024        12.551697\n",
       "18  11.426814       11.645495        12.594458\n",
       "19  11.366971       11.941548             -inf\n",
       "20  11.241823       11.642789        12.607076\n",
       "21  11.269445       11.943236        12.610662\n",
       "22  11.211747       11.718172        12.622541\n",
       "23  11.120365       11.568843        12.627309\n",
       "24  11.252132       11.505713        11.853495\n",
       "25  11.076971       11.846201        11.834738\n",
       "26  11.229619       11.878512        11.805969\n",
       "27  11.185915       11.758727        12.774744\n",
       "28  11.098190       12.115303        11.679695\n",
       "29  11.091415       11.938403        11.581877\n",
       "30  11.034801       11.658248        11.420056\n",
       "31  11.020862       11.936243        11.387569\n",
       "32  11.057359       11.769269        10.738248\n",
       "33  10.924029       11.543042        12.276693\n",
       "34  10.745616       11.968411        12.258654\n",
       "35  10.736701       11.350964        12.233287\n",
       "36  10.263389       11.752385        12.211691\n",
       "37  10.693533       10.845117        12.191108\n",
       "38   9.914902       11.096621        12.129543\n",
       "39  10.559932       11.326380        12.072537\n",
       "40  10.266544       11.683057        12.059865\n",
       "41  10.236128       11.346998        12.010488\n",
       "42  10.070735       11.474077        11.904975\n",
       "43   9.648965       11.754948        10.478250\n",
       "44  10.006844       11.949929        10.251843\n",
       "45   6.907985       11.729270         7.551675\n",
       "46   7.181942       11.659760        12.601873\n",
       "47       -inf       11.816187             -inf\n",
       "48   6.295358       10.854047             -inf\n",
       "49       -inf       11.669791        10.718256"
      ]
     },
     "execution_count": 133,
     "metadata": {},
     "output_type": "execute_result"
    }
   ],
   "source": [
    "import seaborn as sns\n",
    "X = df.iloc[:,0:3]\n",
    "\n",
    "df.isna().sum()\n",
    "for i in X:\n",
    "    if ((X.dtypes[i])!=\"O\"):\n",
    "        X[i] = np.log(X[i])\n",
    "        \n",
    "X['R&D Spend'].fillna((X['R&D Spend'].mean()),inplace=True)\n",
    "X['Marketing Spend'].fillna((X['Marketing Spend'].mean()),inplace=True)\n",
    "X\n"
   ]
  },
  {
   "cell_type": "code",
   "execution_count": 134,
   "id": "51ab918e",
   "metadata": {},
   "outputs": [
    {
     "name": "stdout",
     "output_type": "stream",
     "text": [
      "[77259627.42529702, 52310832.75412486, 48086013.7115601, 53571283.6028545, 43382015.752117574, 91662597.39925133, 56153900.891501084, 90030186.25358948, 76949011.46192877, 57726562.232212864, 93586850.37295413, 89967896.24368972, 57483543.221421994, 38155917.25910704, 50087192.65609157, 81575725.14142887, 43376667.04313323, 85745512.52059951, 85478194.66337335, 96822829.09262735, 75936426.70685609, 87875687.60138029, 87862780.38652696, 84963175.4007392, 84636175.77367519, 80039672.1109572, 92408480.09128079, 63812155.595092826, 52941345.29549052, 53422286.000485696, 52159560.117977075, 54558989.24006418, 80425357.15919793, 92965844.45779061, 91573281.82088423, 73733550.81269954, 47273480.72094353, 81120935.53451818, 93006499.58568579, 83474126.10708539, 44455050.45665991, 71740736.00692655, 95482698.0132723, 50402265.27843402, 86134103.4680923, 84920256.72240067, 57041672.434215724, 79833654.37936619, 97901232.02125573, 73653897.87004331, 85766149.06247333, 57918591.20764555, 71685629.9199353, 52775743.48409759, 104064616.84516485, 50985151.54591184, 81891385.9190173, 67716109.6328912, 85039353.16751055, 94958980.78199682, 88760012.61272946, 41916841.18473187, 92212122.5498541, 87332317.50442442, 86739792.18213236, 80605861.27718261, 81611717.78208292, 73035419.61682023, 90406595.27842869, 96474740.9938688, 94928686.70733568, 84902898.20212272, 76744956.85312982, 57751269.24756793, 79162120.37347943, 78452381.42615059, 67688698.55975007, 86750724.350696, 88744398.19634266, 53841096.736009255, 90551960.053226, 91504100.27226265, 55303000.567086965, 86487803.71084003, 97574060.9906479, 50890536.878996015, 73717036.77943674, 53262686.718719594, 87590581.15639536, 69399148.71840988, 82387947.41062495, 99034563.92912416, 45028100.674948834, 77650491.36828071, 54884839.73634547, 43755106.17716553, 85256154.337967, 88458425.32362275, 68542758.5780562]\n",
      "[91886845.6096023, 166180719.1910979, 167123685.67245895, 139565463.06697685, 166617417.76808655, 52763792.43867271, 136384848.44167674, 53895789.16859908, 85248765.47349684, 138028615.42849764, 45505303.38026137, 54726997.665119484, 130517275.84390298, 176778115.86042556, 177028021.44145203, 76090872.22622558, 161942405.07943064, 71836480.56972837, 74555100.70687933, 43642888.465108596, 99884679.7171847, 60504622.625413656, 63649934.72112717, 65439646.15699161, 75288132.89094505, 88305599.46553755, 63203936.386517495, 120032830.8473282, 139707035.94325468, 182114646.85377875, 149279036.35489276, 147932494.56303847, 88583795.0439417, 47876723.47289196, 48976220.64232881, 98415079.19229399, 152319543.49313006, 85507512.16880845, 45670775.73891027, 72055734.84685746, 175600403.4104405, 101901206.35985921, 43838371.423648864, 163509847.58562616, 72545245.5058718, 69180095.93726185, 139056458.42808655, 111515720.11801045, 36069307.355615176, 98590182.22938906, 62002080.66149843, 140701235.73157132, 109036464.95582072, 147965354.256146, 19900827.89559612, 150859178.40215823, 82255051.63784282, 129493570.9524453, 74491656.46834466, 48169103.69400788, 61169106.40893572, 178738342.70513552, 60775476.70877867, 70192223.29349986, 68181083.41882893, 91800061.579896, 74863506.68484811, 107947402.61220597, 54601671.20937181, 38956152.132438295, 48561855.564655654, 71675771.30060679, 91637591.41845246, 144888567.39976662, 83345983.08574192, 82350514.12557365, 107953606.9198802, 64969287.71843934, 58577930.60069931, 139678819.03869116, 54522594.152871214, 62374808.25767297, 154663124.51105595, 68972980.2524465, 36772113.01537237, 177496274.238057, 102323755.97481088, 165005086.7842497, 63487228.891235396, 104555600.09336486, 70464576.5400798, 39270541.21741913, 175630886.6082898, 106276438.50482318, 161550853.8393714, 183948128.90841708, 68498930.73957913, 66852043.27748649, 124036734.1374285]\n",
      "mean of all training root mean square errors 8563.291664669403\n",
      "mean of all testing root mean square errors 9676.819784283298\n"
     ]
    }
   ],
   "source": [
    "X = pd.concat([X.iloc[:,0:3], df['State']], join = 'outer', axis = 1)\n",
    "Y = df[\"Profit\"]\n",
    "from sklearn.model_selection import train_test_split\n",
    "mse_train=[]\n",
    "mse_test=[]\n",
    "for i in range(1,100):\n",
    "    X_train,X_test,Y_train,Y_test = train_test_split(ss,Y, test_size=0.3)\n",
    "    LR.fit(X_train,Y_train)\n",
    "    Y_pred_train=LR.predict(X_train)\n",
    "    Y_pred_test = LR.predict(X_test)\n",
    "    mse_train.append(mean_squared_error(Y_train,Y_pred_train))\n",
    "    mse_test.append(mean_squared_error(Y_test,Y_pred_test))\n",
    "print(mse_train)\n",
    "print(mse_test)\n",
    "\n",
    "\n",
    "import numpy as np\n",
    "y = np.mean(np.sqrt(mse_train))\n",
    "print(\"mean of all training root mean square errors\", y)\n",
    "a = np.mean(np.sqrt(mse_test))\n",
    "print(\"mean of all testing root mean square errors\",a)\n"
   ]
  },
  {
   "cell_type": "markdown",
   "id": "dc0bea2b",
   "metadata": {},
   "source": [
    "without transformation"
   ]
  },
  {
   "cell_type": "code",
   "execution_count": 135,
   "id": "061fb28a",
   "metadata": {
    "scrolled": false
   },
   "outputs": [
    {
     "name": "stdout",
     "output_type": "stream",
     "text": [
      "[77086610.37723565, 59894133.23987367, 82672093.69578248, 56883761.52852828, 84424182.84592229, 50052423.83710118, 86024675.02264197, 87754384.64976335, 80195473.49404489, 51529453.46646538, 49026576.83414611, 40185099.539596856, 70642606.90294223, 101281813.70663399, 93597713.55636786, 60867328.308347344, 87336275.53558975, 72727816.07455245, 78189814.36683814, 51248024.33565666, 79411636.86404294, 73305508.39313841, 50366766.65936021, 91646031.90698154, 75891243.54694514, 55287614.615214616, 79533886.07344976, 90184483.21969926, 90199110.57006295, 82458267.83038636, 60153139.7900311, 80020223.16959468, 84606842.65408878, 98713361.13736598, 80200490.32650346, 76405382.32270217, 88262150.83492686, 85730891.47478409, 91787050.19663604, 85887699.99197191, 47479499.46702843, 98986337.946744, 73840795.89561151, 68448540.16286188, 83234946.15442963, 76027040.0873782, 69084608.3695306, 84932620.3202094, 82619171.99286735, 64910135.565699086, 75744658.39072396, 91297419.18096897, 72082088.08083722, 55409092.10005954, 77906070.5207206, 87766041.7523988, 86715095.3064141, 77633533.4953884, 88113196.52689306, 90059136.39138605, 88656238.17464766, 79623172.67194997, 90382945.6167072, 75215291.46582799, 86858449.09451683, 55266409.88255751, 76307548.57362355, 87775806.07649395, 91368869.7288558, 47382367.57497115, 91059751.9094041, 46176982.75381085, 56062739.883710206, 52784418.67308559, 83756189.45518854, 72637785.7498652, 97993976.40609494, 97178507.24616368, 95450987.57920901, 59184517.55847628, 80210071.02273326, 83712790.02370647, 90381180.24237023, 80135080.92448989, 58749823.32951538, 40821333.606811136, 93701844.83711314, 62835447.24420384, 54889144.2437345, 73789853.82886402, 77831557.05997665, 51965404.21776841, 87770848.63746972, 77199143.09654808, 55999009.38643969, 67816513.27213567, 80716537.9392678, 67889497.35995196, 95213563.84185497]\n",
      "[111825410.93908006, 129139480.87221423, 73951554.9108053, 129231391.57677977, 74270380.35130866, 146218946.19135073, 67180065.4780274, 59332018.25335168, 81703875.07195655, 176046792.05720985, 176392337.18466207, 178356919.74692807, 119267920.93823966, 25605784.128275465, 52110244.95403602, 120075199.44404505, 71426793.59223552, 116896132.58063611, 97935590.26653191, 166916262.55948955, 81657872.83450994, 96665695.92834345, 156302025.10924587, 48372338.153192684, 102425671.0161032, 144857573.26508516, 86490518.40373342, 59789993.11401056, 56227975.464491725, 76951311.96283405, 132503716.52853526, 89419262.86505212, 66878175.81696389, 35372926.56671311, 89882144.0155509, 94719946.68996476, 62620443.562852226, 73389673.23123114, 65277159.488389656, 66894895.66491653, 163767579.6490677, 31765249.803193808, 102868769.04596856, 121763239.64053364, 79216675.6760551, 93451930.52083474, 132826807.73515674, 69303418.01008232, 85085770.27015254, 122593931.02436939, 114862233.70753664, 55158851.433889546, 99891522.92662035, 145829408.8982635, 84828840.47231753, 77042802.3818565, 77829975.54038948, 90133430.05534814, 72292661.86770663, 60189412.30073546, 71076488.09742396, 83184589.27955443, 58876838.07865246, 97546318.37904134, 63472274.705915235, 144288415.59021822, 103990820.94894767, 62308956.31583457, 52625550.78270189, 153318864.64219314, 55289952.891282365, 177751936.06406006, 153184356.86210027, 139026766.37866113, 103672705.76404946, 110552701.06285988, 32992118.17585828, 40036542.12060674, 44861753.92661684, 137262557.06041107, 79722234.26481776, 80443082.44259353, 52244466.67386451, 91083839.09028417, 127027354.07207887, 193600164.76421508, 59401242.58677146, 123198250.21956067, 149086440.87496784, 95619916.6063231, 101582499.00134216, 158068054.6961565, 75231053.57256843, 92239911.73460323, 140030393.16596442, 111068217.1732971, 87080499.89943127, 112799880.53917167, 44644839.15706586]\n",
      "mean of all training root mean square errors 8648.420697026691\n",
      "mean of all testing root mean square errors 9647.860210541316\n"
     ]
    }
   ],
   "source": [
    "X = df.iloc[:,0:4]\n",
    "Y = df[\"Profit\"]\n",
    "from sklearn.model_selection import train_test_split\n",
    "mse_train=[]\n",
    "mse_test=[]\n",
    "for i in range(1,100):\n",
    "    X_train,X_test,Y_train,Y_test = train_test_split(ss,Y, test_size=0.3)\n",
    "    LR.fit(X_train,Y_train)\n",
    "    Y_pred_train=LR.predict(X_train)\n",
    "    Y_pred_test = LR.predict(X_test)\n",
    "    mse_train.append(mean_squared_error(Y_train,Y_pred_train))\n",
    "    mse_test.append(mean_squared_error(Y_test,Y_pred_test))\n",
    "print(mse_train)\n",
    "print(mse_test)\n",
    "\n",
    "\n",
    "import numpy as np\n",
    "y = np.mean(np.sqrt(mse_train))\n",
    "print(\"mean of all training root mean square errors\", y)\n",
    "a = np.mean(np.sqrt(mse_test))\n",
    "print(\"mean of all testing root mean square errors\",a)"
   ]
  },
  {
   "cell_type": "code",
   "execution_count": 136,
   "id": "86630755",
   "metadata": {},
   "outputs": [
    {
     "data": {
      "text/plain": [
       "count        50.000000\n",
       "mean      73721.615600\n",
       "std       45902.256482\n",
       "min           0.000000\n",
       "25%       39936.370000\n",
       "50%       73051.080000\n",
       "75%      101602.800000\n",
       "max      165349.200000\n",
       "Name: R&D Spend, dtype: float64"
      ]
     },
     "execution_count": 136,
     "metadata": {},
     "output_type": "execute_result"
    }
   ],
   "source": [
    "df['R&D Spend'].describe()\n"
   ]
  },
  {
   "cell_type": "code",
   "execution_count": 137,
   "id": "c465b1c2",
   "metadata": {},
   "outputs": [
    {
     "data": {
      "text/plain": [
       "count        50.000000\n",
       "mean     121344.639600\n",
       "std       28017.802755\n",
       "min       51283.140000\n",
       "25%      103730.875000\n",
       "50%      122699.795000\n",
       "75%      144842.180000\n",
       "max      182645.560000\n",
       "Name: Administration, dtype: float64"
      ]
     },
     "execution_count": 137,
     "metadata": {},
     "output_type": "execute_result"
    }
   ],
   "source": [
    "df['Administration'].describe()"
   ]
  },
  {
   "cell_type": "code",
   "execution_count": 138,
   "id": "f04be060",
   "metadata": {},
   "outputs": [
    {
     "data": {
      "text/plain": [
       "count        50.000000\n",
       "mean     211025.097800\n",
       "std      122290.310726\n",
       "min           0.000000\n",
       "25%      129300.132500\n",
       "50%      212716.240000\n",
       "75%      299469.085000\n",
       "max      471784.100000\n",
       "Name: Marketing Spend, dtype: float64"
      ]
     },
     "execution_count": 138,
     "metadata": {},
     "output_type": "execute_result"
    }
   ],
   "source": [
    "df['Marketing Spend'].describe()"
   ]
  },
  {
   "cell_type": "code",
   "execution_count": 139,
   "id": "63d65d79",
   "metadata": {},
   "outputs": [],
   "source": [
    "from tkinter import * \n",
    "from tkinter import messagebox\n",
    "from decimal import * \n",
    "top=Tk()\n",
    "top.geometry(\"600x650\")\n",
    "title=Label(top,text=\"Profit prediction\",font=(\"Arial\",25)) \n",
    "title.place(x=100,y=0) \n",
    "na=Entry(top)\n",
    "na.place(x=250,y=50)\n",
    "RDSpend_label=Label(top,text=\"R&D Spend :\")\n",
    "RDSpend_label.place(x=150,y=50)\n",
    "ad=Entry(top)\n",
    "ad.place(x=250,y=100)\n",
    "Administration_label=Label(top,text=\"Administration :\")\n",
    "Administration_label.place(x=150,y=100)\n",
    "\n",
    "ms=Entry(top)\n",
    "ms.place(x=250,y=150)\n",
    "MarketingSpend_label=Label(top,text=\"Marketing Spend:\")\n",
    "MarketingSpend_label.place(x=150,y=150)\n",
    "\n",
    "dr=IntVar() \n",
    "d1=Radiobutton(top, text=\"California\", variable=dr, value=0) \n",
    "d1.place(x=250,y=200)\n",
    "d2=Radiobutton(top, text=\"Florida\", variable=dr, value=1)\n",
    "d2.place(x=330,y=200)\n",
    "d2=Radiobutton(top, text=\"New York\", variable=dr, value=2)\n",
    "d2.place(x=410,y=200)\n",
    "drug_label=Label(top,text=\"Drug :\") \n",
    "drug_label.place(x=150,y=200)\n",
    "def action(): \n",
    "    if (na.get() == \"\") or (ad.get() == \"\") or (ms.get() == \"\"):\n",
    "        messagebox.showwarning(\"warning\",\"All Fields are Required\")\n",
    "    elif(float(na.get()) <= 0.00) or (float(na.get()) >= 165349.20):\n",
    "        messagebox.showwarning(\"warning\",\"Enter Valid R&B Value\")\n",
    "    elif(float(ad.get()) <= 51283.14) or (float(ad.get()) >= 182645.56):\n",
    "        messagebox.showwarning(\"warning\",\"Enter Valid Administration Value\")\n",
    "    elif(float(ad.get()) <= 0.00) or (float(ad.get()) >= 471784.10):\n",
    "        messagebox.showwarning(\"warning\",\"Enter Valid Administration Value\")\n",
    "    \n",
    "        \n",
    "btn=Button(top,text=\"submit\",command=action,width=30,height=2) \n",
    "btn.place(x=150,y=350)\n",
    "top.mainloop()\n",
    "\n"
   ]
  },
  {
   "cell_type": "markdown",
   "id": "19040114",
   "metadata": {},
   "source": [
    "# Corolla data set\n"
   ]
  },
  {
   "cell_type": "code",
   "execution_count": 140,
   "id": "dc5e3bf6",
   "metadata": {},
   "outputs": [
    {
     "data": {
      "text/html": [
       "<div>\n",
       "<style scoped>\n",
       "    .dataframe tbody tr th:only-of-type {\n",
       "        vertical-align: middle;\n",
       "    }\n",
       "\n",
       "    .dataframe tbody tr th {\n",
       "        vertical-align: top;\n",
       "    }\n",
       "\n",
       "    .dataframe thead th {\n",
       "        text-align: right;\n",
       "    }\n",
       "</style>\n",
       "<table border=\"1\" class=\"dataframe\">\n",
       "  <thead>\n",
       "    <tr style=\"text-align: right;\">\n",
       "      <th></th>\n",
       "      <th>Age_08_04</th>\n",
       "      <th>KM</th>\n",
       "      <th>HP</th>\n",
       "      <th>cc</th>\n",
       "      <th>Doors</th>\n",
       "      <th>Gears</th>\n",
       "      <th>Quarterly_Tax</th>\n",
       "      <th>Weight</th>\n",
       "      <th>Price</th>\n",
       "    </tr>\n",
       "  </thead>\n",
       "  <tbody>\n",
       "    <tr>\n",
       "      <th>0</th>\n",
       "      <td>23</td>\n",
       "      <td>46986</td>\n",
       "      <td>90</td>\n",
       "      <td>2000</td>\n",
       "      <td>3</td>\n",
       "      <td>5</td>\n",
       "      <td>210</td>\n",
       "      <td>1165</td>\n",
       "      <td>13500</td>\n",
       "    </tr>\n",
       "    <tr>\n",
       "      <th>1</th>\n",
       "      <td>23</td>\n",
       "      <td>72937</td>\n",
       "      <td>90</td>\n",
       "      <td>2000</td>\n",
       "      <td>3</td>\n",
       "      <td>5</td>\n",
       "      <td>210</td>\n",
       "      <td>1165</td>\n",
       "      <td>13750</td>\n",
       "    </tr>\n",
       "    <tr>\n",
       "      <th>2</th>\n",
       "      <td>24</td>\n",
       "      <td>41711</td>\n",
       "      <td>90</td>\n",
       "      <td>2000</td>\n",
       "      <td>3</td>\n",
       "      <td>5</td>\n",
       "      <td>210</td>\n",
       "      <td>1165</td>\n",
       "      <td>13950</td>\n",
       "    </tr>\n",
       "    <tr>\n",
       "      <th>3</th>\n",
       "      <td>26</td>\n",
       "      <td>48000</td>\n",
       "      <td>90</td>\n",
       "      <td>2000</td>\n",
       "      <td>3</td>\n",
       "      <td>5</td>\n",
       "      <td>210</td>\n",
       "      <td>1165</td>\n",
       "      <td>14950</td>\n",
       "    </tr>\n",
       "    <tr>\n",
       "      <th>4</th>\n",
       "      <td>30</td>\n",
       "      <td>38500</td>\n",
       "      <td>90</td>\n",
       "      <td>2000</td>\n",
       "      <td>3</td>\n",
       "      <td>5</td>\n",
       "      <td>210</td>\n",
       "      <td>1170</td>\n",
       "      <td>13750</td>\n",
       "    </tr>\n",
       "    <tr>\n",
       "      <th>...</th>\n",
       "      <td>...</td>\n",
       "      <td>...</td>\n",
       "      <td>...</td>\n",
       "      <td>...</td>\n",
       "      <td>...</td>\n",
       "      <td>...</td>\n",
       "      <td>...</td>\n",
       "      <td>...</td>\n",
       "      <td>...</td>\n",
       "    </tr>\n",
       "    <tr>\n",
       "      <th>1431</th>\n",
       "      <td>69</td>\n",
       "      <td>20544</td>\n",
       "      <td>86</td>\n",
       "      <td>1300</td>\n",
       "      <td>3</td>\n",
       "      <td>5</td>\n",
       "      <td>69</td>\n",
       "      <td>1025</td>\n",
       "      <td>7500</td>\n",
       "    </tr>\n",
       "    <tr>\n",
       "      <th>1432</th>\n",
       "      <td>72</td>\n",
       "      <td>19000</td>\n",
       "      <td>86</td>\n",
       "      <td>1300</td>\n",
       "      <td>3</td>\n",
       "      <td>5</td>\n",
       "      <td>69</td>\n",
       "      <td>1015</td>\n",
       "      <td>10845</td>\n",
       "    </tr>\n",
       "    <tr>\n",
       "      <th>1433</th>\n",
       "      <td>71</td>\n",
       "      <td>17016</td>\n",
       "      <td>86</td>\n",
       "      <td>1300</td>\n",
       "      <td>3</td>\n",
       "      <td>5</td>\n",
       "      <td>69</td>\n",
       "      <td>1015</td>\n",
       "      <td>8500</td>\n",
       "    </tr>\n",
       "    <tr>\n",
       "      <th>1434</th>\n",
       "      <td>70</td>\n",
       "      <td>16916</td>\n",
       "      <td>86</td>\n",
       "      <td>1300</td>\n",
       "      <td>3</td>\n",
       "      <td>5</td>\n",
       "      <td>69</td>\n",
       "      <td>1015</td>\n",
       "      <td>7250</td>\n",
       "    </tr>\n",
       "    <tr>\n",
       "      <th>1435</th>\n",
       "      <td>76</td>\n",
       "      <td>1</td>\n",
       "      <td>110</td>\n",
       "      <td>1600</td>\n",
       "      <td>5</td>\n",
       "      <td>5</td>\n",
       "      <td>19</td>\n",
       "      <td>1114</td>\n",
       "      <td>6950</td>\n",
       "    </tr>\n",
       "  </tbody>\n",
       "</table>\n",
       "<p>1436 rows × 9 columns</p>\n",
       "</div>"
      ],
      "text/plain": [
       "      Age_08_04     KM   HP    cc  Doors  Gears  Quarterly_Tax  Weight  Price\n",
       "0            23  46986   90  2000      3      5            210    1165  13500\n",
       "1            23  72937   90  2000      3      5            210    1165  13750\n",
       "2            24  41711   90  2000      3      5            210    1165  13950\n",
       "3            26  48000   90  2000      3      5            210    1165  14950\n",
       "4            30  38500   90  2000      3      5            210    1170  13750\n",
       "...         ...    ...  ...   ...    ...    ...            ...     ...    ...\n",
       "1431         69  20544   86  1300      3      5             69    1025   7500\n",
       "1432         72  19000   86  1300      3      5             69    1015  10845\n",
       "1433         71  17016   86  1300      3      5             69    1015   8500\n",
       "1434         70  16916   86  1300      3      5             69    1015   7250\n",
       "1435         76      1  110  1600      5      5             19    1114   6950\n",
       "\n",
       "[1436 rows x 9 columns]"
      ]
     },
     "execution_count": 140,
     "metadata": {},
     "output_type": "execute_result"
    }
   ],
   "source": [
    "import pandas as pd\n",
    "df=pd.read_csv(\"D:/Ds Csv files Assignment/Multiple LR/ToyotaCorolla.csv\",encoding=\"ISO-8859-1\")\n",
    "df = df.loc[:, [\"Age_08_04\",\"KM\",\"HP\",\"cc\",\"Doors\",\"Gears\",\"Quarterly_Tax\",\"Weight\",\"Price\"]]\n",
    "df\n"
   ]
  },
  {
   "cell_type": "code",
   "execution_count": 141,
   "id": "d32d1505",
   "metadata": {},
   "outputs": [
    {
     "data": {
      "text/html": [
       "<div>\n",
       "<style scoped>\n",
       "    .dataframe tbody tr th:only-of-type {\n",
       "        vertical-align: middle;\n",
       "    }\n",
       "\n",
       "    .dataframe tbody tr th {\n",
       "        vertical-align: top;\n",
       "    }\n",
       "\n",
       "    .dataframe thead th {\n",
       "        text-align: right;\n",
       "    }\n",
       "</style>\n",
       "<table border=\"1\" class=\"dataframe\">\n",
       "  <thead>\n",
       "    <tr style=\"text-align: right;\">\n",
       "      <th></th>\n",
       "      <th>Age_08_04</th>\n",
       "      <th>KM</th>\n",
       "      <th>HP</th>\n",
       "      <th>cc</th>\n",
       "      <th>Doors</th>\n",
       "      <th>Gears</th>\n",
       "      <th>Quarterly_Tax</th>\n",
       "      <th>Weight</th>\n",
       "      <th>Price</th>\n",
       "    </tr>\n",
       "  </thead>\n",
       "  <tbody>\n",
       "    <tr>\n",
       "      <th>0</th>\n",
       "      <td>23</td>\n",
       "      <td>46986</td>\n",
       "      <td>90</td>\n",
       "      <td>2000</td>\n",
       "      <td>3</td>\n",
       "      <td>5</td>\n",
       "      <td>210</td>\n",
       "      <td>1165</td>\n",
       "      <td>13500</td>\n",
       "    </tr>\n",
       "    <tr>\n",
       "      <th>1</th>\n",
       "      <td>23</td>\n",
       "      <td>72937</td>\n",
       "      <td>90</td>\n",
       "      <td>2000</td>\n",
       "      <td>3</td>\n",
       "      <td>5</td>\n",
       "      <td>210</td>\n",
       "      <td>1165</td>\n",
       "      <td>13750</td>\n",
       "    </tr>\n",
       "    <tr>\n",
       "      <th>2</th>\n",
       "      <td>24</td>\n",
       "      <td>41711</td>\n",
       "      <td>90</td>\n",
       "      <td>2000</td>\n",
       "      <td>3</td>\n",
       "      <td>5</td>\n",
       "      <td>210</td>\n",
       "      <td>1165</td>\n",
       "      <td>13950</td>\n",
       "    </tr>\n",
       "    <tr>\n",
       "      <th>3</th>\n",
       "      <td>26</td>\n",
       "      <td>48000</td>\n",
       "      <td>90</td>\n",
       "      <td>2000</td>\n",
       "      <td>3</td>\n",
       "      <td>5</td>\n",
       "      <td>210</td>\n",
       "      <td>1165</td>\n",
       "      <td>14950</td>\n",
       "    </tr>\n",
       "    <tr>\n",
       "      <th>4</th>\n",
       "      <td>30</td>\n",
       "      <td>38500</td>\n",
       "      <td>90</td>\n",
       "      <td>2000</td>\n",
       "      <td>3</td>\n",
       "      <td>5</td>\n",
       "      <td>210</td>\n",
       "      <td>1170</td>\n",
       "      <td>13750</td>\n",
       "    </tr>\n",
       "  </tbody>\n",
       "</table>\n",
       "</div>"
      ],
      "text/plain": [
       "   Age_08_04     KM  HP    cc  Doors  Gears  Quarterly_Tax  Weight  Price\n",
       "0         23  46986  90  2000      3      5            210    1165  13500\n",
       "1         23  72937  90  2000      3      5            210    1165  13750\n",
       "2         24  41711  90  2000      3      5            210    1165  13950\n",
       "3         26  48000  90  2000      3      5            210    1165  14950\n",
       "4         30  38500  90  2000      3      5            210    1170  13750"
      ]
     },
     "execution_count": 141,
     "metadata": {},
     "output_type": "execute_result"
    }
   ],
   "source": [
    "df.head()"
   ]
  },
  {
   "cell_type": "code",
   "execution_count": 142,
   "id": "d2f9f2d5",
   "metadata": {},
   "outputs": [
    {
     "data": {
      "text/html": [
       "<div>\n",
       "<style scoped>\n",
       "    .dataframe tbody tr th:only-of-type {\n",
       "        vertical-align: middle;\n",
       "    }\n",
       "\n",
       "    .dataframe tbody tr th {\n",
       "        vertical-align: top;\n",
       "    }\n",
       "\n",
       "    .dataframe thead th {\n",
       "        text-align: right;\n",
       "    }\n",
       "</style>\n",
       "<table border=\"1\" class=\"dataframe\">\n",
       "  <thead>\n",
       "    <tr style=\"text-align: right;\">\n",
       "      <th></th>\n",
       "      <th>Age_08_04</th>\n",
       "      <th>KM</th>\n",
       "      <th>HP</th>\n",
       "      <th>cc</th>\n",
       "      <th>Doors</th>\n",
       "      <th>Gears</th>\n",
       "      <th>Quarterly_Tax</th>\n",
       "      <th>Weight</th>\n",
       "      <th>Price</th>\n",
       "    </tr>\n",
       "  </thead>\n",
       "  <tbody>\n",
       "    <tr>\n",
       "      <th>1431</th>\n",
       "      <td>69</td>\n",
       "      <td>20544</td>\n",
       "      <td>86</td>\n",
       "      <td>1300</td>\n",
       "      <td>3</td>\n",
       "      <td>5</td>\n",
       "      <td>69</td>\n",
       "      <td>1025</td>\n",
       "      <td>7500</td>\n",
       "    </tr>\n",
       "    <tr>\n",
       "      <th>1432</th>\n",
       "      <td>72</td>\n",
       "      <td>19000</td>\n",
       "      <td>86</td>\n",
       "      <td>1300</td>\n",
       "      <td>3</td>\n",
       "      <td>5</td>\n",
       "      <td>69</td>\n",
       "      <td>1015</td>\n",
       "      <td>10845</td>\n",
       "    </tr>\n",
       "    <tr>\n",
       "      <th>1433</th>\n",
       "      <td>71</td>\n",
       "      <td>17016</td>\n",
       "      <td>86</td>\n",
       "      <td>1300</td>\n",
       "      <td>3</td>\n",
       "      <td>5</td>\n",
       "      <td>69</td>\n",
       "      <td>1015</td>\n",
       "      <td>8500</td>\n",
       "    </tr>\n",
       "    <tr>\n",
       "      <th>1434</th>\n",
       "      <td>70</td>\n",
       "      <td>16916</td>\n",
       "      <td>86</td>\n",
       "      <td>1300</td>\n",
       "      <td>3</td>\n",
       "      <td>5</td>\n",
       "      <td>69</td>\n",
       "      <td>1015</td>\n",
       "      <td>7250</td>\n",
       "    </tr>\n",
       "    <tr>\n",
       "      <th>1435</th>\n",
       "      <td>76</td>\n",
       "      <td>1</td>\n",
       "      <td>110</td>\n",
       "      <td>1600</td>\n",
       "      <td>5</td>\n",
       "      <td>5</td>\n",
       "      <td>19</td>\n",
       "      <td>1114</td>\n",
       "      <td>6950</td>\n",
       "    </tr>\n",
       "  </tbody>\n",
       "</table>\n",
       "</div>"
      ],
      "text/plain": [
       "      Age_08_04     KM   HP    cc  Doors  Gears  Quarterly_Tax  Weight  Price\n",
       "1431         69  20544   86  1300      3      5             69    1025   7500\n",
       "1432         72  19000   86  1300      3      5             69    1015  10845\n",
       "1433         71  17016   86  1300      3      5             69    1015   8500\n",
       "1434         70  16916   86  1300      3      5             69    1015   7250\n",
       "1435         76      1  110  1600      5      5             19    1114   6950"
      ]
     },
     "execution_count": 142,
     "metadata": {},
     "output_type": "execute_result"
    }
   ],
   "source": [
    "df.tail()"
   ]
  },
  {
   "cell_type": "code",
   "execution_count": 143,
   "id": "720c38f2",
   "metadata": {},
   "outputs": [
    {
     "data": {
      "text/plain": [
       "Age_08_04           68.000000\n",
       "KM               81877.507246\n",
       "HP                 101.492754\n",
       "cc                1545.202899\n",
       "Doors                3.942029\n",
       "Gears                5.028986\n",
       "Quarterly_Tax       81.231884\n",
       "Weight            1052.971014\n",
       "Price             9047.463768\n",
       "dtype: float64"
      ]
     },
     "execution_count": 143,
     "metadata": {},
     "output_type": "execute_result"
    }
   ],
   "source": [
    "df[(df[\"Age_08_04\"]==68)].mean()"
   ]
  },
  {
   "cell_type": "code",
   "execution_count": 144,
   "id": "cc74f1e4",
   "metadata": {},
   "outputs": [
    {
     "data": {
      "text/plain": [
       "(1436, 9)"
      ]
     },
     "execution_count": 144,
     "metadata": {},
     "output_type": "execute_result"
    }
   ],
   "source": [
    "df.shape"
   ]
  },
  {
   "cell_type": "code",
   "execution_count": 145,
   "id": "34eb8116",
   "metadata": {},
   "outputs": [
    {
     "data": {
      "text/plain": [
       "Index(['Age_08_04', 'KM', 'HP', 'cc', 'Doors', 'Gears', 'Quarterly_Tax',\n",
       "       'Weight', 'Price'],\n",
       "      dtype='object')"
      ]
     },
     "execution_count": 145,
     "metadata": {},
     "output_type": "execute_result"
    }
   ],
   "source": [
    "df.columns"
   ]
  },
  {
   "cell_type": "code",
   "execution_count": 146,
   "id": "2968bfc7",
   "metadata": {},
   "outputs": [
    {
     "data": {
      "text/plain": [
       "Age_08_04        int64\n",
       "KM               int64\n",
       "HP               int64\n",
       "cc               int64\n",
       "Doors            int64\n",
       "Gears            int64\n",
       "Quarterly_Tax    int64\n",
       "Weight           int64\n",
       "Price            int64\n",
       "dtype: object"
      ]
     },
     "execution_count": 146,
     "metadata": {},
     "output_type": "execute_result"
    }
   ],
   "source": [
    "df.dtypes"
   ]
  },
  {
   "cell_type": "code",
   "execution_count": 147,
   "id": "4f83be42",
   "metadata": {},
   "outputs": [
    {
     "data": {
      "text/html": [
       "<div>\n",
       "<style scoped>\n",
       "    .dataframe tbody tr th:only-of-type {\n",
       "        vertical-align: middle;\n",
       "    }\n",
       "\n",
       "    .dataframe tbody tr th {\n",
       "        vertical-align: top;\n",
       "    }\n",
       "\n",
       "    .dataframe thead th {\n",
       "        text-align: right;\n",
       "    }\n",
       "</style>\n",
       "<table border=\"1\" class=\"dataframe\">\n",
       "  <thead>\n",
       "    <tr style=\"text-align: right;\">\n",
       "      <th></th>\n",
       "      <th>Age_08_04</th>\n",
       "      <th>KM</th>\n",
       "      <th>HP</th>\n",
       "      <th>cc</th>\n",
       "      <th>Doors</th>\n",
       "      <th>Gears</th>\n",
       "      <th>Quarterly_Tax</th>\n",
       "      <th>Weight</th>\n",
       "      <th>Price</th>\n",
       "    </tr>\n",
       "  </thead>\n",
       "  <tbody>\n",
       "    <tr>\n",
       "      <th>Age_08_04</th>\n",
       "      <td>1.000000</td>\n",
       "      <td>0.505672</td>\n",
       "      <td>-0.156622</td>\n",
       "      <td>-0.098084</td>\n",
       "      <td>-0.148359</td>\n",
       "      <td>-0.005364</td>\n",
       "      <td>-0.198431</td>\n",
       "      <td>-0.470253</td>\n",
       "      <td>-0.876590</td>\n",
       "    </tr>\n",
       "    <tr>\n",
       "      <th>KM</th>\n",
       "      <td>0.505672</td>\n",
       "      <td>1.000000</td>\n",
       "      <td>-0.333538</td>\n",
       "      <td>0.102683</td>\n",
       "      <td>-0.036197</td>\n",
       "      <td>0.015023</td>\n",
       "      <td>0.278165</td>\n",
       "      <td>-0.028598</td>\n",
       "      <td>-0.569960</td>\n",
       "    </tr>\n",
       "    <tr>\n",
       "      <th>HP</th>\n",
       "      <td>-0.156622</td>\n",
       "      <td>-0.333538</td>\n",
       "      <td>1.000000</td>\n",
       "      <td>0.035856</td>\n",
       "      <td>0.092424</td>\n",
       "      <td>0.209477</td>\n",
       "      <td>-0.298432</td>\n",
       "      <td>0.089614</td>\n",
       "      <td>0.314990</td>\n",
       "    </tr>\n",
       "    <tr>\n",
       "      <th>cc</th>\n",
       "      <td>-0.098084</td>\n",
       "      <td>0.102683</td>\n",
       "      <td>0.035856</td>\n",
       "      <td>1.000000</td>\n",
       "      <td>0.079903</td>\n",
       "      <td>0.014629</td>\n",
       "      <td>0.306996</td>\n",
       "      <td>0.335637</td>\n",
       "      <td>0.126389</td>\n",
       "    </tr>\n",
       "    <tr>\n",
       "      <th>Doors</th>\n",
       "      <td>-0.148359</td>\n",
       "      <td>-0.036197</td>\n",
       "      <td>0.092424</td>\n",
       "      <td>0.079903</td>\n",
       "      <td>1.000000</td>\n",
       "      <td>-0.160141</td>\n",
       "      <td>0.109363</td>\n",
       "      <td>0.302618</td>\n",
       "      <td>0.185326</td>\n",
       "    </tr>\n",
       "    <tr>\n",
       "      <th>Gears</th>\n",
       "      <td>-0.005364</td>\n",
       "      <td>0.015023</td>\n",
       "      <td>0.209477</td>\n",
       "      <td>0.014629</td>\n",
       "      <td>-0.160141</td>\n",
       "      <td>1.000000</td>\n",
       "      <td>-0.005452</td>\n",
       "      <td>0.020613</td>\n",
       "      <td>0.063104</td>\n",
       "    </tr>\n",
       "    <tr>\n",
       "      <th>Quarterly_Tax</th>\n",
       "      <td>-0.198431</td>\n",
       "      <td>0.278165</td>\n",
       "      <td>-0.298432</td>\n",
       "      <td>0.306996</td>\n",
       "      <td>0.109363</td>\n",
       "      <td>-0.005452</td>\n",
       "      <td>1.000000</td>\n",
       "      <td>0.626134</td>\n",
       "      <td>0.219197</td>\n",
       "    </tr>\n",
       "    <tr>\n",
       "      <th>Weight</th>\n",
       "      <td>-0.470253</td>\n",
       "      <td>-0.028598</td>\n",
       "      <td>0.089614</td>\n",
       "      <td>0.335637</td>\n",
       "      <td>0.302618</td>\n",
       "      <td>0.020613</td>\n",
       "      <td>0.626134</td>\n",
       "      <td>1.000000</td>\n",
       "      <td>0.581198</td>\n",
       "    </tr>\n",
       "    <tr>\n",
       "      <th>Price</th>\n",
       "      <td>-0.876590</td>\n",
       "      <td>-0.569960</td>\n",
       "      <td>0.314990</td>\n",
       "      <td>0.126389</td>\n",
       "      <td>0.185326</td>\n",
       "      <td>0.063104</td>\n",
       "      <td>0.219197</td>\n",
       "      <td>0.581198</td>\n",
       "      <td>1.000000</td>\n",
       "    </tr>\n",
       "  </tbody>\n",
       "</table>\n",
       "</div>"
      ],
      "text/plain": [
       "               Age_08_04        KM        HP        cc     Doors     Gears  \\\n",
       "Age_08_04       1.000000  0.505672 -0.156622 -0.098084 -0.148359 -0.005364   \n",
       "KM              0.505672  1.000000 -0.333538  0.102683 -0.036197  0.015023   \n",
       "HP             -0.156622 -0.333538  1.000000  0.035856  0.092424  0.209477   \n",
       "cc             -0.098084  0.102683  0.035856  1.000000  0.079903  0.014629   \n",
       "Doors          -0.148359 -0.036197  0.092424  0.079903  1.000000 -0.160141   \n",
       "Gears          -0.005364  0.015023  0.209477  0.014629 -0.160141  1.000000   \n",
       "Quarterly_Tax  -0.198431  0.278165 -0.298432  0.306996  0.109363 -0.005452   \n",
       "Weight         -0.470253 -0.028598  0.089614  0.335637  0.302618  0.020613   \n",
       "Price          -0.876590 -0.569960  0.314990  0.126389  0.185326  0.063104   \n",
       "\n",
       "               Quarterly_Tax    Weight     Price  \n",
       "Age_08_04          -0.198431 -0.470253 -0.876590  \n",
       "KM                  0.278165 -0.028598 -0.569960  \n",
       "HP                 -0.298432  0.089614  0.314990  \n",
       "cc                  0.306996  0.335637  0.126389  \n",
       "Doors               0.109363  0.302618  0.185326  \n",
       "Gears              -0.005452  0.020613  0.063104  \n",
       "Quarterly_Tax       1.000000  0.626134  0.219197  \n",
       "Weight              0.626134  1.000000  0.581198  \n",
       "Price               0.219197  0.581198  1.000000  "
      ]
     },
     "execution_count": 147,
     "metadata": {},
     "output_type": "execute_result"
    }
   ],
   "source": [
    "df.corr()"
   ]
  },
  {
   "cell_type": "code",
   "execution_count": 148,
   "id": "b1da581c",
   "metadata": {},
   "outputs": [],
   "source": [
    "X= df.iloc[:,0:7]\n",
    "Y=df[\"Price\"]\n"
   ]
  },
  {
   "cell_type": "code",
   "execution_count": 149,
   "id": "d8511b11",
   "metadata": {
    "scrolled": false
   },
   "outputs": [
    {
     "data": {
      "image/png": "[encoded data removed]",
      "text/plain": [
       "<Figure size 432x288 with 1 Axes>"
      ]
     },
     "metadata": {
      "needs_background": "light"
     },
     "output_type": "display_data"
    },
    {
     "name": "stdout",
     "output_type": "stream",
     "text": [
      "Age_08_04 None\n"
     ]
    },
    {
     "data": {
      "image/png": "[encoded data removed]",
      "text/plain": [
       "<Figure size 432x288 with 1 Axes>"
      ]
     },
     "metadata": {
      "needs_background": "light"
     },
     "output_type": "display_data"
    },
    {
     "data": {
      "image/png": "[encoded data removed]",
      "text/plain": [
       "<Figure size 432x288 with 1 Axes>"
      ]
     },
     "metadata": {
      "needs_background": "light"
     },
     "output_type": "display_data"
    },
    {
     "name": "stdout",
     "output_type": "stream",
     "text": [
      "-----------------------------------------------------\n"
     ]
    },
    {
     "data": {
      "image/png": "[encoded data removed]",
      "text/plain": [
       "<Figure size 432x288 with 1 Axes>"
      ]
     },
     "metadata": {
      "needs_background": "light"
     },
     "output_type": "display_data"
    },
    {
     "name": "stdout",
     "output_type": "stream",
     "text": [
      "KM None\n"
     ]
    },
    {
     "data": {
      "image/png": "[encoded data removed]",
      "text/plain": [
       "<Figure size 432x288 with 1 Axes>"
      ]
     },
     "metadata": {
      "needs_background": "light"
     },
     "output_type": "display_data"
    },
    {
     "data": {
      "image/png": "[encoded data removed]",
      "text/plain": [
       "<Figure size 432x288 with 1 Axes>"
      ]
     },
     "metadata": {
      "needs_background": "light"
     },
     "output_type": "display_data"
    },
    {
     "name": "stdout",
     "output_type": "stream",
     "text": [
      "-----------------------------------------------------\n"
     ]
    },
    {
     "data": {
      "image/png": "[encoded data removed]",
      "text/plain": [
       "<Figure size 432x288 with 1 Axes>"
      ]
     },
     "metadata": {
      "needs_background": "light"
     },
     "output_type": "display_data"
    },
    {
     "name": "stdout",
     "output_type": "stream",
     "text": [
      "HP None\n"
     ]
    },
    {
     "data": {
      "image/png": "[encoded data removed]",
      "text/plain": [
       "<Figure size 432x288 with 1 Axes>"
      ]
     },
     "metadata": {
      "needs_background": "light"
     },
     "output_type": "display_data"
    },
    {
     "data": {
      "image/png": "[encoded data removed]",
      "text/plain": [
       "<Figure size 432x288 with 1 Axes>"
      ]
     },
     "metadata": {
      "needs_background": "light"
     },
     "output_type": "display_data"
    },
    {
     "name": "stdout",
     "output_type": "stream",
     "text": [
      "-----------------------------------------------------\n"
     ]
    },
    {
     "data": {
      "image/png": "[encoded data removed]",
      "text/plain": [
       "<Figure size 432x288 with 1 Axes>"
      ]
     },
     "metadata": {
      "needs_background": "light"
     },
     "output_type": "display_data"
    },
    {
     "name": "stdout",
     "output_type": "stream",
     "text": [
      "cc None\n"
     ]
    },
    {
     "data": {
      "image/png": "[encoded data removed]",
      "text/plain": [
       "<Figure size 432x288 with 1 Axes>"
      ]
     },
     "metadata": {
      "needs_background": "light"
     },
     "output_type": "display_data"
    },
    {
     "data": {
      "image/png": "[encoded data removed]",
      "text/plain": [
       "<Figure size 432x288 with 1 Axes>"
      ]
     },
     "metadata": {
      "needs_background": "light"
     },
     "output_type": "display_data"
    },
    {
     "name": "stdout",
     "output_type": "stream",
     "text": [
      "-----------------------------------------------------\n"
     ]
    },
    {
     "data": {
      "image/png": "[encoded data removed]",
      "text/plain": [
       "<Figure size 432x288 with 1 Axes>"
      ]
     },
     "metadata": {
      "needs_background": "light"
     },
     "output_type": "display_data"
    },
    {
     "name": "stdout",
     "output_type": "stream",
     "text": [
      "Doors None\n"
     ]
    },
    {
     "data": {
      "image/png": "[encoded data removed]",
      "text/plain": [
       "<Figure size 432x288 with 1 Axes>"
      ]
     },
     "metadata": {
      "needs_background": "light"
     },
     "output_type": "display_data"
    },
    {
     "data": {
      "image/png": "[encoded data removed]",
      "text/plain": [
       "<Figure size 432x288 with 1 Axes>"
      ]
     },
     "metadata": {
      "needs_background": "light"
     },
     "output_type": "display_data"
    },
    {
     "name": "stdout",
     "output_type": "stream",
     "text": [
      "-----------------------------------------------------\n"
     ]
    },
    {
     "data": {
      "image/png": "[encoded data removed]",
      "text/plain": [
       "<Figure size 432x288 with 1 Axes>"
      ]
     },
     "metadata": {
      "needs_background": "light"
     },
     "output_type": "display_data"
    },
    {
     "name": "stdout",
     "output_type": "stream",
     "text": [
      "Gears None\n"
     ]
    },
    {
     "data": {
      "image/png": "[encoded data removed]",
      "text/plain": [
       "<Figure size 432x288 with 1 Axes>"
      ]
     },
     "metadata": {
      "needs_background": "light"
     },
     "output_type": "display_data"
    },
    {
     "data": {
      "image/png": "[encoded data removed]",
      "text/plain": [
       "<Figure size 432x288 with 1 Axes>"
      ]
     },
     "metadata": {
      "needs_background": "light"
     },
     "output_type": "display_data"
    },
    {
     "name": "stdout",
     "output_type": "stream",
     "text": [
      "-----------------------------------------------------\n"
     ]
    },
    {
     "data": {
      "image/png": "[encoded data removed]",
      "text/plain": [
       "<Figure size 432x288 with 1 Axes>"
      ]
     },
     "metadata": {
      "needs_background": "light"
     },
     "output_type": "display_data"
    },
    {
     "name": "stdout",
     "output_type": "stream",
     "text": [
      "Quarterly_Tax None\n"
     ]
    },
    {
     "data": {
      "image/png": "[encoded data removed]",
      "text/plain": [
       "<Figure size 432x288 with 1 Axes>"
      ]
     },
     "metadata": {
      "needs_background": "light"
     },
     "output_type": "display_data"
    },
    {
     "data": {
      "image/png": "[encoded data removed]",
      "text/plain": [
       "<Figure size 432x288 with 1 Axes>"
      ]
     },
     "metadata": {
      "needs_background": "light"
     },
     "output_type": "display_data"
    },
    {
     "name": "stdout",
     "output_type": "stream",
     "text": [
      "-----------------------------------------------------\n"
     ]
    }
   ],
   "source": [
    "import matplotlib.pyplot as plt\n",
    "for i in X:\n",
    "    plt.scatter(x=X[i],y=Y,color='g')\n",
    "    print(i,plt.show())\n",
    "    plt.boxplot(X[i])\n",
    "    plt.show()\n",
    "    plt.hist(X[i])\n",
    "    plt.show()\n",
    "    print(\"-----------------------------------------------------\")"
   ]
  },
  {
   "cell_type": "code",
   "execution_count": 150,
   "id": "99026f1b",
   "metadata": {},
   "outputs": [
    {
     "name": "stdout",
     "output_type": "stream",
     "text": [
      "Age_08_04 345.9595663525254\n",
      "Age_08_04 55.94707520891365\n",
      "KM 1406733707.0021696\n",
      "KM 68533.25974930362\n",
      "HP 224.43274824570776\n",
      "HP 101.50208913649026\n",
      "cc 180104.1304256839\n",
      "cc 1576.8558495821726\n",
      "Doors 0.9075927130142623\n",
      "Doors 4.0334261838440115\n",
      "Gears 0.03553618743509323\n",
      "Gears 5.0264623955431755\n",
      "Quarterly_Tax 1691.5626682713757\n",
      "Quarterly_Tax 87.12256267409471\n"
     ]
    }
   ],
   "source": [
    "for i in X:\n",
    "    var=df[i].var()\n",
    "    mean=df[i].mean()\n",
    "    print(i,var)\n",
    "    print(i,mean)"
   ]
  },
  {
   "cell_type": "code",
   "execution_count": 151,
   "id": "e678e06e",
   "metadata": {},
   "outputs": [
    {
     "data": {
      "text/plain": [
       "array([[-1.77196633, -0.57469494, -0.76804185, ..., -0.14042519,\n",
       "         2.98867967,  1.75856113],\n",
       "       [-1.77196633,  0.11745379, -0.76804185, ..., -0.14042519,\n",
       "         2.98867967,  1.75856113],\n",
       "       [-1.71818412, -0.71538641, -0.76804185, ..., -0.14042519,\n",
       "         2.98867967,  1.75856113],\n",
       "       ...,\n",
       "       [ 0.80957948, -1.37403589, -1.03513832, ..., -0.14042519,\n",
       "        -0.44078503, -1.09191497],\n",
       "       [ 0.75579727, -1.37670303, -1.03513832, ..., -0.14042519,\n",
       "        -0.44078503, -1.09191497],\n",
       "       [ 1.0784905 , -1.82784925,  0.5674405 , ..., -0.14042519,\n",
       "        -1.65690726,  0.78939926]])"
      ]
     },
     "execution_count": 151,
     "metadata": {},
     "output_type": "execute_result"
    }
   ],
   "source": [
    "X=df[['Age_08_04', 'KM', 'HP', 'cc', 'Doors', 'Gears','Quarterly_Tax','Weight']]\n",
    "Y=df[\"Price\"]\n",
    "from sklearn.preprocessing import StandardScaler\n",
    "SS =StandardScaler()\n",
    "SS_count = SS.fit_transform(X)\n",
    "SS_count\n"
   ]
  },
  {
   "cell_type": "markdown",
   "id": "a3b16be6",
   "metadata": {},
   "source": [
    "# checking for multicollinearity isses "
   ]
  },
  {
   "cell_type": "code",
   "execution_count": 152,
   "id": "51193eb6",
   "metadata": {},
   "outputs": [
    {
     "name": "stdout",
     "output_type": "stream",
     "text": [
      "r2 0.39204345135277063\n"
     ]
    }
   ],
   "source": [
    "X=df[['Weight']]\n",
    "Y = df['Quarterly_Tax']\n",
    "from sklearn.linear_model import LinearRegression\n",
    "LR=LinearRegression()\n",
    "LR.fit(X,Y)\n",
    "ypred = LR.predict(X)\n",
    "from sklearn.metrics import r2_score\n",
    "from sklearn.metrics import mean_squared_error\n",
    "r2=r2_score(Y,ypred)\n",
    "Mse= mean_squared_error(Y,ypred)\n",
    "print('r2',r2)"
   ]
  },
  {
   "cell_type": "code",
   "execution_count": 153,
   "id": "944295fc",
   "metadata": {},
   "outputs": [
    {
     "data": {
      "text/plain": [
       "1.6448543933363506"
      ]
     },
     "execution_count": 153,
     "metadata": {},
     "output_type": "execute_result"
    }
   ],
   "source": [
    "r2=r2_score(Y,ypred)\n",
    "vif = 1/(1-r2)\n",
    "vif"
   ]
  },
  {
   "cell_type": "markdown",
   "id": "c5cc5e9d",
   "metadata": {},
   "source": [
    "no multicollinearity issues"
   ]
  },
  {
   "cell_type": "code",
   "execution_count": 154,
   "id": "89e24943",
   "metadata": {},
   "outputs": [
    {
     "name": "stdout",
     "output_type": "stream",
     "text": [
      "[1809014.7372087073, 1813282.1298693633, 1691174.1369610738, 1682472.22598709, 1799502.8089633714, 1684971.585706695, 1799170.2948777394, 1740647.3811626423, 1850803.4598842768, 1683280.2979217004, 1665283.1433561775, 1788788.921305179, 1636979.7974637225, 1855957.965452372, 1819225.0621733186, 1814262.3127196226, 1816306.358795223, 1698272.4700252186, 1706406.9542886112, 1820236.6848528439, 1959153.940223441, 1787878.2313464575, 1708600.6311277784, 1692071.1982906205, 1793916.2224406959, 1904455.7294226054, 1702899.4931283616, 1637637.952821476, 1684370.2696468418, 1850026.923989992, 1812788.427996598, 1769744.502170975, 1857375.8527380489, 1816416.8990415575, 1817130.080143719, 1811040.4945306398, 1780895.1407926055, 1793419.0423284934, 1730778.4579655107, 1787064.4254619067, 1779771.9796397102, 1722691.1883210202, 1591372.0743387209, 1749642.1098318552, 1772341.5538270809, 1904163.700233612, 1867184.7933934762, 1848942.4289675136, 1994824.2109974457, 1746762.3577004191, 1648188.3475732903, 1770546.5219832743, 1729885.4555516397, 1802273.6663370433, 1795047.8422950583, 1880139.4732512787, 1880850.2518456066, 1759525.6414640236, 1759569.6854077554, 1825715.040750824, 1639938.4279806388, 1774748.7619892417, 1866694.5005430728, 1637560.4728479458, 1772222.4040905498, 1856692.577441646, 1657129.8147998278, 1817254.4082493908, 1749426.5543983802, 1935572.655763109, 1656742.6284707154, 1903907.3987729375, 1779273.1876023905, 1815644.0677379365, 1606622.1410538387, 1730527.9578914207, 1626501.038911912, 1470288.8857947572, 1728416.949411704, 1765097.1969596113, 1875011.2027034266, 1554929.4577707755, 1838524.1723198805, 1809184.3337573183, 1728257.9665094286, 1728162.4352925124, 1793956.498072247, 1785447.7447401283, 1747191.4529701513, 1623437.7609193139, 1785956.6523293245, 1809775.9650965894, 1689090.0104106064, 1749719.373931733, 1656191.568381589, 1755694.8572578104, 1613815.023140404, 1784954.4002372534, 1854971.7004600503, 1730877.9726161573]\n",
      "[3679235.3539974345, 1766752.582951195, 4496476.526080177, 3922325.8614207297, 1899193.6651010239, 3474564.0707919737, 1792983.7011306023, 1993565.6196939435, 1703662.558236266, 3210190.5129241757, 4685192.806464488, 1835977.9310195728, 2443673.1781174117, 1669201.3139673995, 1790919.129566833, 4279100.84081529, 3528634.8825269057, 2292588.399194375, 6037711.892674935, 1763027.0173265385, 1417873.8890717237, 1823316.2953439278, 2040446.891047673, 2037330.8453158557, 1823078.239920537, 1544246.260513613, 2036121.8104601218, 2297114.974709903, 4031291.5974635314, 1682655.3808203186, 1782838.8400781641, 1894937.5166643278, 1664135.2553926494, 1789057.8829099848, 1739784.720985483, 1775265.8047132432, 4041801.3001168077, 1829486.0281811925, 5084756.896811419, 1885988.9660008752, 1875311.2773002754, 1987405.2328305005, 7233700.944813671, 4642287.672045717, 1879973.8471697853, 1565200.8129260058, 1631872.0563535567, 4861754.494521289, 1352264.1493885065, 1956541.5138519784, 2292364.7810814995, 1869618.686693464, 5055565.862702129, 1779098.806698949, 5535366.131620261, 1608447.5656978968, 1625107.2485478532, 1876112.875524459, 1914609.376564885, 1739527.7044598325, 6065830.966587938, 1844649.3502993358, 1661279.7970632496, 2482764.5466372333, 1854407.762984732, 1651836.9932620556, 2120263.1649468876, 1748033.6763249016, 1936906.400686162, 1478130.3315048765, 5783902.261425864, 4011279.2241790965, 1855280.7142592217, 1770755.209212065, 2300969.635099973, 4244730.567604567, 6630247.568384098, 8862826.634608246, 2047738.0914354613, 5171058.5931404065, 1606531.887156799, 2683786.04545572, 1759763.926488686, 1800395.686968112, 4435696.427542814, 2017323.4172760362, 1841451.4119887475, 1825886.2219422024, 1941593.7230991225, 4817776.488809672, 1837824.6674239547, 1772993.5019051603, 2058506.1819931765, 5860800.451194062, 2140406.2468266007, 1910787.2307809847, 5957671.138146531, 1905451.9116463114, 1674660.9149245596, 3603718.3886385346]\n",
      "1327.7633280878717\n",
      "1607.9015020298373\n"
     ]
    }
   ],
   "source": [
    "X=df[['Age_08_04', 'KM', 'HP', 'cc', 'Doors', 'Gears','Quarterly_Tax','Weight']]\n",
    "Y=df[\"Price\"]\n",
    "from sklearn.preprocessing import StandardScaler\n",
    "SS =StandardScaler()\n",
    "SS_count = SS.fit_transform(X)\n",
    "SS_count\n",
    "\n",
    "from sklearn.model_selection import train_test_split\n",
    "X_train,X_test,Y_train,Y_test = train_test_split(SS_count,Y, test_size=0.3)\n",
    "mse_train=[]\n",
    "mse_test=[]\n",
    "for i in range(1,101):\n",
    "    X_train,X_test,Y_train,Y_test = train_test_split(SS_count,Y, test_size=0.3)\n",
    "    LR.fit(X_train,Y_train)\n",
    "    Y_pred_train=LR.predict(X_train)\n",
    "    Y_pred_test = LR.predict(X_test)\n",
    "    mse_train.append(mean_squared_error(Y_train,Y_pred_train))\n",
    "    mse_test.append(mean_squared_error(Y_test,Y_pred_test))\n",
    "print(mse_train)\n",
    "print(mse_test)\n",
    "import numpy as np\n",
    "y = np.mean(np.sqrt(mse_train))\n",
    "print(y)\n",
    "a = np.mean(np.sqrt(mse_test))\n",
    "print(a)"
   ]
  },
  {
   "cell_type": "code",
   "execution_count": 155,
   "id": "c80efa18",
   "metadata": {},
   "outputs": [
    {
     "name": "stderr",
     "output_type": "stream",
     "text": [
      "C:\\Users\\satam\\AppData\\Local\\Temp/ipykernel_11904/3328366234.py:7: SettingWithCopyWarning: \n",
      "A value is trying to be set on a copy of a slice from a DataFrame.\n",
      "Try using .loc[row_indexer,col_indexer] = value instead\n",
      "\n",
      "See the caveats in the documentation: https://pandas.pydata.org/pandas-docs/stable/user_guide/indexing.html#returning-a-view-versus-a-copy\n",
      "  X[i] = np.log(X[i])\n"
     ]
    },
    {
     "data": {
      "text/html": [
       "<div>\n",
       "<style scoped>\n",
       "    .dataframe tbody tr th:only-of-type {\n",
       "        vertical-align: middle;\n",
       "    }\n",
       "\n",
       "    .dataframe tbody tr th {\n",
       "        vertical-align: top;\n",
       "    }\n",
       "\n",
       "    .dataframe thead th {\n",
       "        text-align: right;\n",
       "    }\n",
       "</style>\n",
       "<table border=\"1\" class=\"dataframe\">\n",
       "  <thead>\n",
       "    <tr style=\"text-align: right;\">\n",
       "      <th></th>\n",
       "      <th>Age_08_04</th>\n",
       "      <th>KM</th>\n",
       "      <th>HP</th>\n",
       "      <th>cc</th>\n",
       "      <th>Doors</th>\n",
       "      <th>Gears</th>\n",
       "      <th>Quarterly_Tax</th>\n",
       "    </tr>\n",
       "  </thead>\n",
       "  <tbody>\n",
       "    <tr>\n",
       "      <th>0</th>\n",
       "      <td>3.135494</td>\n",
       "      <td>10.757605</td>\n",
       "      <td>4.499810</td>\n",
       "      <td>7.600902</td>\n",
       "      <td>1.098612</td>\n",
       "      <td>1.609438</td>\n",
       "      <td>5.347108</td>\n",
       "    </tr>\n",
       "    <tr>\n",
       "      <th>1</th>\n",
       "      <td>3.135494</td>\n",
       "      <td>11.197351</td>\n",
       "      <td>4.499810</td>\n",
       "      <td>7.600902</td>\n",
       "      <td>1.098612</td>\n",
       "      <td>1.609438</td>\n",
       "      <td>5.347108</td>\n",
       "    </tr>\n",
       "    <tr>\n",
       "      <th>2</th>\n",
       "      <td>3.178054</td>\n",
       "      <td>10.638520</td>\n",
       "      <td>4.499810</td>\n",
       "      <td>7.600902</td>\n",
       "      <td>1.098612</td>\n",
       "      <td>1.609438</td>\n",
       "      <td>5.347108</td>\n",
       "    </tr>\n",
       "    <tr>\n",
       "      <th>3</th>\n",
       "      <td>3.258097</td>\n",
       "      <td>10.778956</td>\n",
       "      <td>4.499810</td>\n",
       "      <td>7.600902</td>\n",
       "      <td>1.098612</td>\n",
       "      <td>1.609438</td>\n",
       "      <td>5.347108</td>\n",
       "    </tr>\n",
       "    <tr>\n",
       "      <th>4</th>\n",
       "      <td>3.401197</td>\n",
       "      <td>10.558414</td>\n",
       "      <td>4.499810</td>\n",
       "      <td>7.600902</td>\n",
       "      <td>1.098612</td>\n",
       "      <td>1.609438</td>\n",
       "      <td>5.347108</td>\n",
       "    </tr>\n",
       "    <tr>\n",
       "      <th>...</th>\n",
       "      <td>...</td>\n",
       "      <td>...</td>\n",
       "      <td>...</td>\n",
       "      <td>...</td>\n",
       "      <td>...</td>\n",
       "      <td>...</td>\n",
       "      <td>...</td>\n",
       "    </tr>\n",
       "    <tr>\n",
       "      <th>1431</th>\n",
       "      <td>4.234107</td>\n",
       "      <td>9.930324</td>\n",
       "      <td>4.454347</td>\n",
       "      <td>7.170120</td>\n",
       "      <td>1.098612</td>\n",
       "      <td>1.609438</td>\n",
       "      <td>4.234107</td>\n",
       "    </tr>\n",
       "    <tr>\n",
       "      <th>1432</th>\n",
       "      <td>4.276666</td>\n",
       "      <td>9.852194</td>\n",
       "      <td>4.454347</td>\n",
       "      <td>7.170120</td>\n",
       "      <td>1.098612</td>\n",
       "      <td>1.609438</td>\n",
       "      <td>4.234107</td>\n",
       "    </tr>\n",
       "    <tr>\n",
       "      <th>1433</th>\n",
       "      <td>4.262680</td>\n",
       "      <td>9.741909</td>\n",
       "      <td>4.454347</td>\n",
       "      <td>7.170120</td>\n",
       "      <td>1.098612</td>\n",
       "      <td>1.609438</td>\n",
       "      <td>4.234107</td>\n",
       "    </tr>\n",
       "    <tr>\n",
       "      <th>1434</th>\n",
       "      <td>4.248495</td>\n",
       "      <td>9.736015</td>\n",
       "      <td>4.454347</td>\n",
       "      <td>7.170120</td>\n",
       "      <td>1.098612</td>\n",
       "      <td>1.609438</td>\n",
       "      <td>4.234107</td>\n",
       "    </tr>\n",
       "    <tr>\n",
       "      <th>1435</th>\n",
       "      <td>4.330733</td>\n",
       "      <td>0.000000</td>\n",
       "      <td>4.700480</td>\n",
       "      <td>7.377759</td>\n",
       "      <td>1.609438</td>\n",
       "      <td>1.609438</td>\n",
       "      <td>2.944439</td>\n",
       "    </tr>\n",
       "  </tbody>\n",
       "</table>\n",
       "<p>1436 rows × 7 columns</p>\n",
       "</div>"
      ],
      "text/plain": [
       "      Age_08_04         KM        HP        cc     Doors     Gears  \\\n",
       "0      3.135494  10.757605  4.499810  7.600902  1.098612  1.609438   \n",
       "1      3.135494  11.197351  4.499810  7.600902  1.098612  1.609438   \n",
       "2      3.178054  10.638520  4.499810  7.600902  1.098612  1.609438   \n",
       "3      3.258097  10.778956  4.499810  7.600902  1.098612  1.609438   \n",
       "4      3.401197  10.558414  4.499810  7.600902  1.098612  1.609438   \n",
       "...         ...        ...       ...       ...       ...       ...   \n",
       "1431   4.234107   9.930324  4.454347  7.170120  1.098612  1.609438   \n",
       "1432   4.276666   9.852194  4.454347  7.170120  1.098612  1.609438   \n",
       "1433   4.262680   9.741909  4.454347  7.170120  1.098612  1.609438   \n",
       "1434   4.248495   9.736015  4.454347  7.170120  1.098612  1.609438   \n",
       "1435   4.330733   0.000000  4.700480  7.377759  1.609438  1.609438   \n",
       "\n",
       "      Quarterly_Tax  \n",
       "0          5.347108  \n",
       "1          5.347108  \n",
       "2          5.347108  \n",
       "3          5.347108  \n",
       "4          5.347108  \n",
       "...             ...  \n",
       "1431       4.234107  \n",
       "1432       4.234107  \n",
       "1433       4.234107  \n",
       "1434       4.234107  \n",
       "1435       2.944439  \n",
       "\n",
       "[1436 rows x 7 columns]"
      ]
     },
     "execution_count": 155,
     "metadata": {},
     "output_type": "execute_result"
    }
   ],
   "source": [
    "import seaborn as sns\n",
    "X = df.iloc[:,0:7]\n",
    "\n",
    "df.isna().sum()\n",
    "for i in X:\n",
    "    if ((X.dtypes[i])!=\"O\"):\n",
    "        X[i] = np.log(X[i])\n",
    "        \n",
    "\n",
    "X\n"
   ]
  },
  {
   "cell_type": "code",
   "execution_count": null,
   "id": "b79bd0bb",
   "metadata": {},
   "outputs": [],
   "source": [
    "Y=df[\"Price\"]\n",
    "from sklearn.model_selection import train_test_split\n",
    "mse_train=[]\n",
    "mse_test=[]\n",
    "for i in range(1,100):\n",
    "    X_train,X_test,Y_train,Y_test = train_test_split(X,Y, test_size=0.3)\n",
    "    LR.fit(X_train,Y_train)\n",
    "    Y_pred_train=LR.predict(X_train)\n",
    "    Y_pred_test = LR.predict(X_test)\n",
    "    mse_train.append(mean_squared_error(Y_train,Y_pred_train))\n",
    "    mse_test.append(mean_squared_error(Y_test,Y_pred_test))\n",
    "print(mse_train)\n",
    "print(mse_test)\n",
    "\n",
    "\n",
    "import numpy as np\n",
    "y = np.mean(np.sqrt(mse_train))\n",
    "print(\"mean of all training root mean square errors\", y)\n",
    "a = np.mean(np.sqrt(mse_test))\n",
    "print(\"mean of all testing root mean square errors\",a)\n"
   ]
  },
  {
   "cell_type": "code",
   "execution_count": 110,
   "id": "a4a7293a",
   "metadata": {
    "scrolled": false
   },
   "outputs": [
    {
     "name": "stderr",
     "output_type": "stream",
     "text": [
      "C:\\Users\\satam\\anaconda3\\lib\\site-packages\\seaborn\\distributions.py:2619: FutureWarning: `distplot` is a deprecated function and will be removed in a future version. Please adapt your code to use either `displot` (a figure-level function with similar flexibility) or `histplot` (an axes-level function for histograms).\n",
      "  warnings.warn(msg, FutureWarning)\n",
      "C:\\Users\\satam\\anaconda3\\lib\\site-packages\\seaborn\\distributions.py:2619: FutureWarning: `distplot` is a deprecated function and will be removed in a future version. Please adapt your code to use either `displot` (a figure-level function with similar flexibility) or `histplot` (an axes-level function for histograms).\n",
      "  warnings.warn(msg, FutureWarning)\n",
      "C:\\Users\\satam\\anaconda3\\lib\\site-packages\\seaborn\\distributions.py:2619: FutureWarning: `distplot` is a deprecated function and will be removed in a future version. Please adapt your code to use either `displot` (a figure-level function with similar flexibility) or `histplot` (an axes-level function for histograms).\n",
      "  warnings.warn(msg, FutureWarning)\n",
      "C:\\Users\\satam\\anaconda3\\lib\\site-packages\\seaborn\\distributions.py:2619: FutureWarning: `distplot` is a deprecated function and will be removed in a future version. Please adapt your code to use either `displot` (a figure-level function with similar flexibility) or `histplot` (an axes-level function for histograms).\n",
      "  warnings.warn(msg, FutureWarning)\n",
      "C:\\Users\\satam\\anaconda3\\lib\\site-packages\\seaborn\\distributions.py:2619: FutureWarning: `distplot` is a deprecated function and will be removed in a future version. Please adapt your code to use either `displot` (a figure-level function with similar flexibility) or `histplot` (an axes-level function for histograms).\n",
      "  warnings.warn(msg, FutureWarning)\n",
      "C:\\Users\\satam\\anaconda3\\lib\\site-packages\\seaborn\\distributions.py:2619: FutureWarning: `distplot` is a deprecated function and will be removed in a future version. Please adapt your code to use either `displot` (a figure-level function with similar flexibility) or `histplot` (an axes-level function for histograms).\n",
      "  warnings.warn(msg, FutureWarning)\n",
      "C:\\Users\\satam\\anaconda3\\lib\\site-packages\\seaborn\\distributions.py:2619: FutureWarning: `distplot` is a deprecated function and will be removed in a future version. Please adapt your code to use either `displot` (a figure-level function with similar flexibility) or `histplot` (an axes-level function for histograms).\n",
      "  warnings.warn(msg, FutureWarning)\n",
      "C:\\Users\\satam\\anaconda3\\lib\\site-packages\\seaborn\\distributions.py:2619: FutureWarning: `distplot` is a deprecated function and will be removed in a future version. Please adapt your code to use either `displot` (a figure-level function with similar flexibility) or `histplot` (an axes-level function for histograms).\n",
      "  warnings.warn(msg, FutureWarning)\n"
     ]
    },
    {
     "data": {
      "image/png": "[encoded data removed]",
      "text/plain": [
       "<Figure size 432x288 with 1 Axes>"
      ]
     },
     "metadata": {
      "needs_background": "light"
     },
     "output_type": "display_data"
    },
    {
     "data": {
      "image/png": "[encoded data removed]",
      "text/plain": [
       "<Figure size 432x288 with 1 Axes>"
      ]
     },
     "metadata": {
      "needs_background": "light"
     },
     "output_type": "display_data"
    },
    {
     "data": {
      "image/png": "[encoded data removed]",
      "text/plain": [
       "<Figure size 432x288 with 1 Axes>"
      ]
     },
     "metadata": {
      "needs_background": "light"
     },
     "output_type": "display_data"
    },
    {
     "data": {
      "image/png": "[encoded data removed]",
      "text/plain": [
       "<Figure size 432x288 with 1 Axes>"
      ]
     },
     "metadata": {
      "needs_background": "light"
     },
     "output_type": "display_data"
    },
    {
     "data": {
      "image/png": "[encoded data removed]",
      "text/plain": [
       "<Figure size 432x288 with 1 Axes>"
      ]
     },
     "metadata": {
      "needs_background": "light"
     },
     "output_type": "display_data"
    },
    {
     "data": {
      "image/png": "[encoded data removed]",
      "text/plain": [
       "<Figure size 432x288 with 1 Axes>"
      ]
     },
     "metadata": {
      "needs_background": "light"
     },
     "output_type": "display_data"
    },
    {
     "data": {
      "image/png": "[encoded data removed]",
      "text/plain": [
       "<Figure size 432x288 with 1 Axes>"
      ]
     },
     "metadata": {
      "needs_background": "light"
     },
     "output_type": "display_data"
    },
    {
     "data": {
      "image/png": "[encoded data removed]",
      "text/plain": [
       "<Figure size 432x288 with 1 Axes>"
      ]
     },
     "metadata": {
      "needs_background": "light"
     },
     "output_type": "display_data"
    },
    {
     "data": {
      "text/plain": [
       "<Figure size 432x288 with 0 Axes>"
      ]
     },
     "metadata": {},
     "output_type": "display_data"
    }
   ],
   "source": [
    "import seaborn as sns\n",
    "for i in X:\n",
    "    sns.distplot(X[i])\n",
    "    plt.figure()"
   ]
  },
  {
   "cell_type": "code",
   "execution_count": null,
   "id": "9e6bf1df",
   "metadata": {},
   "outputs": [],
   "source": []
  }
 ],
 "metadata": {
  "kernelspec": {
   "display_name": "Python 3 (ipykernel)",
   "language": "python",
   "name": "python3"
  },
  "language_info": {
   "codemirror_mode": {
    "name": "ipython",
    "version": 3
   },
   "file_extension": ".py",
   "mimetype": "text/x-python",
   "name": "python",
   "nbconvert_exporter": "python",
   "pygments_lexer": "ipython3",
   "version": "3.9.7"
  }
 },
 "nbformat": 4,
 "nbformat_minor": 5
}
